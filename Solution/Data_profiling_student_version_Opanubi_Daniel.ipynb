{
  "cells": [
    {
      "cell_type": "markdown",
      "metadata": {
        "id": "pe9h40yw9I8Y"
      },
      "source": [
        "# Processing Big Data - Data profiling\n",
        "\n",
        "© Explore Data Science Academy\n",
        "\n",
        "## Honour Code\n",
        "I {**YOUR NAME**, **YOUR SURNAME**}, confirm - by submitting this document - that the solutions in this notebook are a result of my own work and that I abide by the [EDSA honour code](https://drive.google.com/file/d/1QDCjGZJ8-FmJE3bZdIQNwnJyQKPhHZBn/view?usp=sharing).\n",
        "    Non-compliance with the honour code constitutes a material breach of contract.\n",
        "\n",
        "## Context\n",
        "\n",
        "Having completed the first step - data ingestion, the data now needs to be thoroughly prepared so that it is readable, reliable and robust. As the Data Engineer in the team, this will be your responsibility. The Data Scientists are looking to you to clean this data so that model development and deployment become seamless when the data is used in a production environment. Having completed your Data Engineering course recently, your manager Gnissecorp Atadgid, asks you to create data summaries and perform checks using the six dimensions of data quality.\n",
        "\n",
        "<div align=\"center\" style=\"width: 600px; font-size: 80%; text-align: center; margin: 0 auto\">\n",
        "<img src=\"https://github.com/Explore-AI/Pictures/raw/master/data_engineering/transform/predict/DataQuality.jpg\"\n",
        "     alt=\"Data Quality\"\n",
        "     style=\"float: center; padding-bottom=0.5em\"\n",
        "     width=100%/>\n",
        "     <p><em>Figure 1. Six dimensions of data quality</em></p>\n",
        "</div>"
      ]
    },
    {
      "cell_type": "markdown",
      "metadata": {
        "id": "Cr8pKE1Q9I8f"
      },
      "source": [
        "## Import libraries\n",
        "Below we import the libraries required to complete this section of the predict."
      ]
    },
    {
      "cell_type": "code",
      "execution_count": null,
      "metadata": {
        "id": "xMkNX6rb9I8h"
      },
      "outputs": [],
      "source": [
        "import pandas as pd\n",
        "import numpy as np\n",
        "import matplotlib.pyplot as plt\n",
        "import datetime as dt\n",
        "\n",
        "from pyspark import SparkContext\n",
        "from pyspark.sql import SparkSession\n",
        "from pyspark.sql import functions as F\n",
        "from pyspark.sql.types import *"
      ]
    },
    {
      "cell_type": "markdown",
      "metadata": {
        "id": "IWyzqOov9I8k"
      },
      "source": [
        "Remember that we need a `SparkContext` and `SparkSession` to interface with Spark.\n",
        "We will mostly be using the `SparkContext` to interact with RDDs \n",
        "and the `SparkSession` to interface with Python objects.\n",
        "\n",
        "> ℹ️ **Instructions** ℹ️\n",
        ">\n",
        ">Initialise a new **Spark Context** and **Session** that you will use to interface with Spark."
      ]
    },
    {
      "cell_type": "code",
      "execution_count": null,
      "metadata": {
        "id": "t1AhLE-N9I8m"
      },
      "outputs": [],
      "source": [
        "#TODO: Write your code here.\n",
        "sc = SparkContext()\n",
        "spark = SparkSession(sc)"
      ]
    },
    {
      "cell_type": "markdown",
      "metadata": {
        "id": "ZXi15Np39I8n"
      },
      "source": [
        "## Parquet files\n",
        "In the previous section of the predict, you generated parquet files to your local directory. You will be making use of these files to continue with this section of the predict. Please make sure that your parquet files are specifically for the year **1962**. Any other year used outside of **1962** will produce incorrect answers and have a negative impact on your overall predict mark.\n",
        "\n",
        "> ℹ️ **Instructions** ℹ️\n",
        ">\n",
        "> Read the parquet files stored in your directory for the year **1962** into a Spark DataFrame."
      ]
    },
    {
      "cell_type": "code",
      "execution_count": null,
      "metadata": {
        "id": "KQoVH9GP9I8o"
      },
      "outputs": [],
      "source": [
        "#TODO: Write your code here\n",
        "df = spark.read.parquet('/content/drive/MyDrive/data/Part_I')"
      ]
    },
    {
      "cell_type": "markdown",
      "metadata": {
        "id": "zD5FZEOa9I8p"
      },
      "source": [
        "## Metadata \n",
        "\n",
        "Metadata is data containing additional information about the data itself. In the cloud storage, there is a metadata file called [`symbols_valid_meta.csv`](https://processing-big-data-predict-stocks-data.s3.eu-west-1.amazonaws.com/symbols_valid_meta.csv) that is collocated with the stock market data. You will need to download this to use when performing your data quality checks.\n",
        "\n",
        "> ℹ️ **Instructions** ℹ️\n",
        ">\n",
        "> Download the metadata from the S3 bucket and read it into a Spark DataFrame."
      ]
    },
    {
      "cell_type": "code",
      "execution_count": null,
      "metadata": {
        "id": "O73l9Q0X9I8r"
      },
      "outputs": [],
      "source": [
        "#TODO: Write your code here\n",
        "metadata_df = spark.read.csv('/content/drive/MyDrive/data/symbols_valid_meta.csv', header=True)"
      ]
    },
    {
      "cell_type": "markdown",
      "metadata": {
        "id": "LpdZH0yQ9I8s"
      },
      "source": [
        "## Data Accuracy\n",
        "Data accuracy is the degree to which data correctly describes a \"real world\" object or event.\n",
        "\n",
        "It is important to do checks to determine the basic integrity of the dataset; do the values fall within expected ranges?\n",
        "\n",
        "Most of the possible errors relating to data accuracy can occur at collection time. In our case, it is not possible to test the collection time accuracy, so we have to infer from ranges and summary statistics. Here you need to look closely at each field to see if its values make sense, with no strange surprises.\n",
        "\n",
        "In assessing accuracy, it is important to look into precision as well. Do you need seven decimals, or will one or two suffice?\n",
        "\n",
        "- **Measured by**: The degree to which the data mirrors the characteristics of the real-world object or objects it represents;\n",
        "- **Units**: The percentage of data entries that pass the data accuracy rules;\n",
        "- **Related to**: Validity, Uniqueness, Consistency."
      ]
    },
    {
      "cell_type": "markdown",
      "metadata": {
        "id": "euPWR_il9I8u"
      },
      "source": [
        "> ℹ️ **Instructions** ℹ️\n",
        ">\n",
        "> Generate summary statistics to explore your data. Make sure you understand the ranges, means, extremums, and deviations found in the data set."
      ]
    },
    {
      "cell_type": "code",
      "execution_count": null,
      "metadata": {
        "colab": {
          "base_uri": "https://localhost:8080/",
          "height": 300
        },
        "id": "0OKrGYgG9I8v",
        "outputId": "a1678486-6e4e-42f8-d35d-99743e80cb8f"
      },
      "outputs": [
        {
          "data": {
            "text/html": [
              "\n",
              "  <div id=\"df-4ee8f931-e040-4ec8-bb84-6a166b8e4bb1\">\n",
              "    <div class=\"colab-df-container\">\n",
              "      <div>\n",
              "<style scoped>\n",
              "    .dataframe tbody tr th:only-of-type {\n",
              "        vertical-align: middle;\n",
              "    }\n",
              "\n",
              "    .dataframe tbody tr th {\n",
              "        vertical-align: top;\n",
              "    }\n",
              "\n",
              "    .dataframe thead th {\n",
              "        text-align: right;\n",
              "    }\n",
              "</style>\n",
              "<table border=\"1\" class=\"dataframe\">\n",
              "  <thead>\n",
              "    <tr style=\"text-align: right;\">\n",
              "      <th></th>\n",
              "      <th>summary</th>\n",
              "      <th>open</th>\n",
              "      <th>high</th>\n",
              "      <th>low</th>\n",
              "      <th>close</th>\n",
              "      <th>adj_close</th>\n",
              "      <th>volume</th>\n",
              "      <th>stock</th>\n",
              "    </tr>\n",
              "  </thead>\n",
              "  <tbody>\n",
              "    <tr>\n",
              "      <th>0</th>\n",
              "      <td>count</td>\n",
              "      <td>5106</td>\n",
              "      <td>5106</td>\n",
              "      <td>5064</td>\n",
              "      <td>5106</td>\n",
              "      <td>5085</td>\n",
              "      <td>5085</td>\n",
              "      <td>5106</td>\n",
              "    </tr>\n",
              "    <tr>\n",
              "      <th>1</th>\n",
              "      <td>mean</td>\n",
              "      <td>1.0904873526012002</td>\n",
              "      <td>16.757624946793637</td>\n",
              "      <td>15.728619917198033</td>\n",
              "      <td>16.64199179044607</td>\n",
              "      <td>5.986642513535305</td>\n",
              "      <td>540930.2458210423</td>\n",
              "      <td>None</td>\n",
              "    </tr>\n",
              "    <tr>\n",
              "      <th>2</th>\n",
              "      <td>stddev</td>\n",
              "      <td>2.3644535253049086</td>\n",
              "      <td>53.914073481935475</td>\n",
              "      <td>51.322922898144014</td>\n",
              "      <td>53.54677139900796</td>\n",
              "      <td>24.646370547153197</td>\n",
              "      <td>864596.2440525505</td>\n",
              "      <td>None</td>\n",
              "    </tr>\n",
              "    <tr>\n",
              "      <th>3</th>\n",
              "      <td>min</td>\n",
              "      <td>0.0</td>\n",
              "      <td>0.0</td>\n",
              "      <td>0.052377883</td>\n",
              "      <td>0.053624976</td>\n",
              "      <td>4.0381454E-7</td>\n",
              "      <td>0</td>\n",
              "      <td>AA</td>\n",
              "    </tr>\n",
              "    <tr>\n",
              "      <th>4</th>\n",
              "      <td>25%</td>\n",
              "      <td>0.0</td>\n",
              "      <td>0.2454427</td>\n",
              "      <td>0.24348958</td>\n",
              "      <td>0.24739583</td>\n",
              "      <td>0.006592116</td>\n",
              "      <td>38400</td>\n",
              "      <td>None</td>\n",
              "    </tr>\n",
              "    <tr>\n",
              "      <th>5</th>\n",
              "      <td>50%</td>\n",
              "      <td>0.0</td>\n",
              "      <td>1.8046875</td>\n",
              "      <td>1.7851562</td>\n",
              "      <td>1.8007812</td>\n",
              "      <td>0.12449309</td>\n",
              "      <td>177600</td>\n",
              "      <td>None</td>\n",
              "    </tr>\n",
              "    <tr>\n",
              "      <th>6</th>\n",
              "      <td>75%</td>\n",
              "      <td>0.69547325</td>\n",
              "      <td>6.903353</td>\n",
              "      <td>6.7916665</td>\n",
              "      <td>6.8333335</td>\n",
              "      <td>0.7141595</td>\n",
              "      <td>734400</td>\n",
              "      <td>None</td>\n",
              "    </tr>\n",
              "    <tr>\n",
              "      <th>7</th>\n",
              "      <td>max</td>\n",
              "      <td>20.0</td>\n",
              "      <td>287.5</td>\n",
              "      <td>282.5</td>\n",
              "      <td>285.0</td>\n",
              "      <td>127.45936</td>\n",
              "      <td>19545600</td>\n",
              "      <td>XOM</td>\n",
              "    </tr>\n",
              "  </tbody>\n",
              "</table>\n",
              "</div>\n",
              "      <button class=\"colab-df-convert\" onclick=\"convertToInteractive('df-4ee8f931-e040-4ec8-bb84-6a166b8e4bb1')\"\n",
              "              title=\"Convert this dataframe to an interactive table.\"\n",
              "              style=\"display:none;\">\n",
              "        \n",
              "  <svg xmlns=\"http://www.w3.org/2000/svg\" height=\"24px\"viewBox=\"0 0 24 24\"\n",
              "       width=\"24px\">\n",
              "    <path d=\"M0 0h24v24H0V0z\" fill=\"none\"/>\n",
              "    <path d=\"M18.56 5.44l.94 2.06.94-2.06 2.06-.94-2.06-.94-.94-2.06-.94 2.06-2.06.94zm-11 1L8.5 8.5l.94-2.06 2.06-.94-2.06-.94L8.5 2.5l-.94 2.06-2.06.94zm10 10l.94 2.06.94-2.06 2.06-.94-2.06-.94-.94-2.06-.94 2.06-2.06.94z\"/><path d=\"M17.41 7.96l-1.37-1.37c-.4-.4-.92-.59-1.43-.59-.52 0-1.04.2-1.43.59L10.3 9.45l-7.72 7.72c-.78.78-.78 2.05 0 2.83L4 21.41c.39.39.9.59 1.41.59.51 0 1.02-.2 1.41-.59l7.78-7.78 2.81-2.81c.8-.78.8-2.07 0-2.86zM5.41 20L4 18.59l7.72-7.72 1.47 1.35L5.41 20z\"/>\n",
              "  </svg>\n",
              "      </button>\n",
              "      \n",
              "  <style>\n",
              "    .colab-df-container {\n",
              "      display:flex;\n",
              "      flex-wrap:wrap;\n",
              "      gap: 12px;\n",
              "    }\n",
              "\n",
              "    .colab-df-convert {\n",
              "      background-color: #E8F0FE;\n",
              "      border: none;\n",
              "      border-radius: 50%;\n",
              "      cursor: pointer;\n",
              "      display: none;\n",
              "      fill: #1967D2;\n",
              "      height: 32px;\n",
              "      padding: 0 0 0 0;\n",
              "      width: 32px;\n",
              "    }\n",
              "\n",
              "    .colab-df-convert:hover {\n",
              "      background-color: #E2EBFA;\n",
              "      box-shadow: 0px 1px 2px rgba(60, 64, 67, 0.3), 0px 1px 3px 1px rgba(60, 64, 67, 0.15);\n",
              "      fill: #174EA6;\n",
              "    }\n",
              "\n",
              "    [theme=dark] .colab-df-convert {\n",
              "      background-color: #3B4455;\n",
              "      fill: #D2E3FC;\n",
              "    }\n",
              "\n",
              "    [theme=dark] .colab-df-convert:hover {\n",
              "      background-color: #434B5C;\n",
              "      box-shadow: 0px 1px 3px 1px rgba(0, 0, 0, 0.15);\n",
              "      filter: drop-shadow(0px 1px 2px rgba(0, 0, 0, 0.3));\n",
              "      fill: #FFFFFF;\n",
              "    }\n",
              "  </style>\n",
              "\n",
              "      <script>\n",
              "        const buttonEl =\n",
              "          document.querySelector('#df-4ee8f931-e040-4ec8-bb84-6a166b8e4bb1 button.colab-df-convert');\n",
              "        buttonEl.style.display =\n",
              "          google.colab.kernel.accessAllowed ? 'block' : 'none';\n",
              "\n",
              "        async function convertToInteractive(key) {\n",
              "          const element = document.querySelector('#df-4ee8f931-e040-4ec8-bb84-6a166b8e4bb1');\n",
              "          const dataTable =\n",
              "            await google.colab.kernel.invokeFunction('convertToInteractive',\n",
              "                                                     [key], {});\n",
              "          if (!dataTable) return;\n",
              "\n",
              "          const docLinkHtml = 'Like what you see? Visit the ' +\n",
              "            '<a target=\"_blank\" href=https://colab.research.google.com/notebooks/data_table.ipynb>data table notebook</a>'\n",
              "            + ' to learn more about interactive tables.';\n",
              "          element.innerHTML = '';\n",
              "          dataTable['output_type'] = 'display_data';\n",
              "          await google.colab.output.renderOutput(dataTable, element);\n",
              "          const docLink = document.createElement('div');\n",
              "          docLink.innerHTML = docLinkHtml;\n",
              "          element.appendChild(docLink);\n",
              "        }\n",
              "      </script>\n",
              "    </div>\n",
              "  </div>\n",
              "  "
            ],
            "text/plain": [
              "  summary                open                high                 low  \\\n",
              "0   count                5106                5106                5064   \n",
              "1    mean  1.0904873526012002  16.757624946793637  15.728619917198033   \n",
              "2  stddev  2.3644535253049086  53.914073481935475  51.322922898144014   \n",
              "3     min                 0.0                 0.0         0.052377883   \n",
              "4     25%                 0.0           0.2454427          0.24348958   \n",
              "5     50%                 0.0           1.8046875           1.7851562   \n",
              "6     75%          0.69547325            6.903353           6.7916665   \n",
              "7     max                20.0               287.5               282.5   \n",
              "\n",
              "               close           adj_close             volume stock  \n",
              "0               5106                5085               5085  5106  \n",
              "1  16.64199179044607   5.986642513535305  540930.2458210423  None  \n",
              "2  53.54677139900796  24.646370547153197  864596.2440525505  None  \n",
              "3        0.053624976        4.0381454E-7                  0    AA  \n",
              "4         0.24739583         0.006592116              38400  None  \n",
              "5          1.8007812          0.12449309             177600  None  \n",
              "6          6.8333335           0.7141595             734400  None  \n",
              "7              285.0           127.45936           19545600   XOM  "
            ]
          },
          "execution_count": 9,
          "metadata": {},
          "output_type": "execute_result"
        }
      ],
      "source": [
        "#TODO: Write your code here\n",
        "df.summary().toPandas()"
      ]
    },
    {
      "cell_type": "markdown",
      "metadata": {
        "id": "9mDMRale9I8w"
      },
      "source": [
        "> ℹ️ **Instructions** ℹ️\n",
        ">\n",
        "> Generate histograms for the six numerical attributes found in the data to understand the distribution of values.\n",
        ">\n",
        ">*You may use as many coding cells as necessary.*"
      ]
    },
    {
      "cell_type": "code",
      "execution_count": null,
      "metadata": {
        "colab": {
          "base_uri": "https://localhost:8080/",
          "height": 1000
        },
        "id": "D0W7-Aga9I8x",
        "outputId": "186cfec0-d88b-4df6-df7a-9aea518e55f5"
      },
      "outputs": [
        {
          "data": {
            "image/png": "[encoded data removed]",
            "text/plain": [
              "<Figure size 432x288 with 1 Axes>"
            ]
          },
          "metadata": {},
          "output_type": "display_data"
        },
        {
          "data": {
            "image/png": "[encoded data removed]",
            "text/plain": [
              "<Figure size 432x288 with 1 Axes>"
            ]
          },
          "metadata": {},
          "output_type": "display_data"
        },
        {
          "data": {
            "image/png": "[encoded data removed]",
            "text/plain": [
              "<Figure size 432x288 with 1 Axes>"
            ]
          },
          "metadata": {},
          "output_type": "display_data"
        },
        {
          "data": {
            "image/png": "[encoded data removed]",
            "text/plain": [
              "<Figure size 432x288 with 1 Axes>"
            ]
          },
          "metadata": {},
          "output_type": "display_data"
        },
        {
          "data": {
            "image/png": "[encoded data removed]",
            "text/plain": [
              "<Figure size 432x288 with 1 Axes>"
            ]
          },
          "metadata": {},
          "output_type": "display_data"
        },
        {
          "data": {
            "image/png": "[encoded data removed]",
            "text/plain": [
              "<Figure size 432x288 with 1 Axes>"
            ]
          },
          "metadata": {},
          "output_type": "display_data"
        }
      ],
      "source": [
        "#TODO: Write your code here\n",
        "num_cols = ['open', 'high', 'low', 'close', 'adj_close', 'volume']\n",
        "for col in num_cols:\n",
        "  x = df.select(col).toPandas()\n",
        "  x.hist()\n",
        "  plt.xlabel(col)\n",
        "  plt.ylabel('Count')\n",
        "  plt.show()\n",
        "   "
      ]
    },
    {
      "cell_type": "markdown",
      "metadata": {
        "id": "_csxYArj9I8x"
      },
      "source": [
        "> ℹ️ **Instructions** ℹ️\n",
        ">\n",
        "> Investigate the **open** column to identify stocks that have open values greater than 2, and note any anomalies that you find in the data.\n",
        ">\n",
        ">*You may use as many coding cells as necessary.*"
      ]
    },
    {
      "cell_type": "code",
      "execution_count": null,
      "metadata": {
        "colab": {
          "base_uri": "https://localhost:8080/"
        },
        "id": "XpN89Hvk9I8y",
        "outputId": "8978b9dd-5461-48c9-aa44-0cded8ea41d4"
      },
      "outputs": [
        {
          "name": "stdout",
          "output_type": "stream",
          "text": [
            "+----------+---------+---------+---------+---------+----------+------+-----+\n",
            "|      date|     open|     high|      low|    close| adj_close|volume|stock|\n",
            "+----------+---------+---------+---------+---------+----------+------+-----+\n",
            "|1962-02-19|  5.83929| 5.907375|  5.83929|  5.86332| 1.3863293| 29900|   AA|\n",
            "|1962-02-19| 5.481634| 5.528486| 5.481634|5.5167727| 1.2804527| 32000| ARNC|\n",
            "|1962-02-19|     7.26|7.2933335| 7.173333|7.1866665| 0.5825691|280000|  IBM|\n",
            "|1962-02-14|  5.83929|  5.83929| 5.747175|  5.80725| 1.3730713| 56500|   AA|\n",
            "|1962-02-14| 5.481634| 5.481634| 5.399644|5.4347825| 1.2614225| 60400| ARNC|\n",
            "|1962-02-14| 7.306667|7.3333335|     7.28|7.2933335|0.59121627|208000|  IBM|\n",
            "|1962-02-13|  5.85531| 5.915385|  5.85531|  5.86332| 1.3863293| 62500|   AA|\n",
            "|1962-02-13|  5.50506| 5.540199|  5.50506|5.5167727| 1.2804527| 66800| ARNC|\n",
            "|1962-02-13|7.4266667|7.4333334| 7.306667| 7.306667|0.59229714|256000|  IBM|\n",
            "|1962-02-26|  6.05556| 6.107625| 5.955435| 6.107625| 1.4440926| 82500|   AA|\n",
            "|1962-02-26|5.6924663| 5.715892| 5.598763| 5.715892| 1.3266692| 88100| ARNC|\n",
            "|1962-02-26|     7.16|7.1666665|     7.12| 7.133333|  0.578246|299200|  IBM|\n",
            "|1962-02-06| 5.915385| 5.915385|  5.82327|  5.85531| 1.3844348| 40500|   AA|\n",
            "|1962-02-06| 5.540199| 5.540199|5.4582086|  5.50506| 1.2777345| 43300| ARNC|\n",
            "|1962-02-06| 7.346667|     7.36|     7.32|7.3533335|0.59607965|256000|  IBM|\n",
            "|1962-02-02| 5.931405| 5.955435| 5.907375| 5.915385| 1.3915651| 30500|   AA|\n",
            "|1962-02-02|5.5636244| 5.598763| 5.528486| 5.540199| 1.2794067| 32600| ARNC|\n",
            "|1962-02-02|7.3933334|     7.44|     7.36|     7.44| 0.6030228|507200|  IBM|\n",
            "|1962-02-16| 5.739165|  5.83128| 5.739165|  5.83128| 1.3787535| 55900|   AA|\n",
            "|1962-02-16| 5.387931| 5.469921| 5.387931| 5.469921| 1.2695786| 59700| ARNC|\n",
            "|1962-02-16| 7.266667|7.2933335|     7.26|     7.26| 0.5885142|219200|  IBM|\n",
            "|1962-02-27| 6.107625| 6.123645| 6.107625| 6.107625| 1.4440926| 27900|   AA|\n",
            "|1962-02-27| 5.715892| 5.739318| 5.715892| 5.715892| 1.3266692| 29800| ARNC|\n",
            "|1962-02-27| 7.133333| 7.193333|7.0933332|7.1466665|0.57932657|347200|  IBM|\n",
            "|1962-02-12|  5.82327|  5.83128|  5.81526|  5.81526| 1.3749654| 16600|   AA|\n",
            "|1962-02-12|5.4582086| 5.469921|5.4464955|5.4464955| 1.2641411| 17700| ARNC|\n",
            "|1962-02-12|     7.42|     7.48|7.4133334|7.4266667| 0.6020243|280000|  IBM|\n",
            "|1962-02-20|  5.86332| 5.963445|   5.8473| 5.963445| 1.4100027| 40500|   AA|\n",
            "|1962-02-20|5.5167727| 5.610476| 5.493347| 5.610476| 1.3022016| 43300| ARNC|\n",
            "|1962-02-20|     7.19|7.2266665|     7.19|     7.19|   0.58284|288000|  IBM|\n",
            "|1962-02-09|  5.86332| 5.923395|  5.82327|  5.82327| 1.3768599| 33900|   AA|\n",
            "|1962-02-09|5.5167727|5.5519114|5.4582086|5.4582086| 1.2668599| 36200| ARNC|\n",
            "|1962-02-09| 7.366667|     7.42|7.3333335|     7.42|0.60148406|432000|  IBM|\n",
            "|1962-02-28| 6.107625|  6.22377|  6.03954|  6.03954| 1.4279944| 47900|   AA|\n",
            "|1962-02-28| 5.715892| 5.833021|5.6690407|5.6690407| 1.3157941| 51200| ARNC|\n",
            "|1962-02-28|7.1466665|     7.16|7.1066666|     7.16| 0.5804081|267200|  IBM|\n",
            "|1962-02-05| 5.939415| 5.963445| 5.939415| 5.939415|  1.397218| 72500|   AA|\n",
            "|1962-02-05|5.5753374| 5.610476|5.5753374|5.5753374| 1.2875211| 77500| ARNC|\n",
            "|1962-02-05|     7.44|     7.44| 7.306667| 7.346667| 0.5954585|312000|  IBM|\n",
            "|1962-02-08| 5.915385| 5.931405|  5.83929|  5.86332| 1.3863293| 51900|   AA|\n",
            "+----------+---------+---------+---------+---------+----------+------+-----+\n",
            "only showing top 40 rows\n",
            "\n"
          ]
        }
      ],
      "source": [
        "#TODO: Write your code here\n",
        "df.where(F.col('open') > 2).show(40)"
      ]
    },
    {
      "cell_type": "code",
      "execution_count": null,
      "metadata": {
        "colab": {
          "base_uri": "https://localhost:8080/"
        },
        "id": "DzkttuzCc8Ok",
        "outputId": "c5b8b9d1-a9ea-4ef6-cc3a-df8388fa5ca6"
      },
      "outputs": [
        {
          "name": "stdout",
          "output_type": "stream",
          "text": [
            "+----------+-----------+-----------+----------+-----------+------------+-------+-----+\n",
            "|      date|       open|       high|       low|      close|   adj_close| volume|stock|\n",
            "+----------+-----------+-----------+----------+-----------+------------+-------+-----+\n",
            "|1962-02-19|  0.9074074| 0.91563785|0.89917696|  0.9032922|  0.16141544| 619400|   BA|\n",
            "|1962-02-19|  1.6770834|  1.6927084| 1.6614584|  1.6770834|   0.1440587| 170400|  CAT|\n",
            "|1962-02-19|        0.0|   3.578869|      20.0|   3.549107| 0.056501225| 273600|  CVX|\n",
            "|1962-02-19|0.099767394|0.099767394|0.09820853| 0.09820853| 0.037543412| 817400|  DIS|\n",
            "|1962-02-19|        0.0|    29.9375|     29.75|    29.9375|  0.49964145|   1600|  DTE|\n",
            "|1962-02-19|        0.0|   9.921875|  9.890625|   9.921875|  0.22499175|   8800|   ED|\n",
            "|1962-02-19|        0.0|  7.0833335| 7.0208335|  7.0208335|  0.91296524|  20400|   FL|\n",
            "|1962-02-19| 0.77373797|   0.777494|0.76372194|   0.767478|0.0018262818|1557500|   GE|\n",
            "|1962-02-19|        0.0|    10.9375|     10.75|    10.9375|   1.9131781|  22800|   GT|\n",
            "|1962-02-19| 0.11264618| 0.11397664|0.11264618|0.113089666| 0.006272347| 591800|  HPQ|\n",
            "|1962-02-19|        0.0|   9.003848|  8.822562|   8.882991|   0.7784165|  39300|   IP|\n",
            "|1962-02-19|        0.0| 0.23206018|0.23206018| 0.23206018| 6.541049E-7|  43200|  JNJ|\n",
            "|1962-02-19| 0.24153645| 0.24348958|0.24153645| 0.24348958| 0.003923037| 345600|   KO|\n",
            "|1962-02-19|        0.0| 0.17881945|0.17621528| 0.17708333|2.1674694E-4| 460800|   MO|\n",
            "|1962-02-19|        0.0|      280.0|   276.875|    279.375|   124.94374|    600|  NAV|\n",
            "|1962-02-19|        0.0|  1.2734375|  1.265625|   1.265625| 0.012011507| 281600|   PG|\n",
            "|1962-02-19|        0.0|  1.7460938| 1.7109375|  1.7382812| 0.015494763|1657600|  XOM|\n",
            "|1962-02-19| 0.11264618| 0.11397664|0.11264618|0.113089666| 0.006272347| 591800|  HPQ|\n",
            "|1962-02-19| 0.11264618| 0.11397664|0.11264618|0.113089666| 0.006272347| 591800|  HPQ|\n",
            "|1962-02-19| 0.11264618| 0.11397664|0.11264618|0.113089666| 0.006272347| 591800|  HPQ|\n",
            "+----------+-----------+-----------+----------+-----------+------------+-------+-----+\n",
            "only showing top 20 rows\n",
            "\n"
          ]
        }
      ],
      "source": [
        "df.where(F.col('open') < 2).show(20)"
      ]
    },
    {
      "cell_type": "code",
      "execution_count": null,
      "metadata": {
        "colab": {
          "base_uri": "https://localhost:8080/"
        },
        "id": "srDc6kBB07p0",
        "outputId": "ccfbe1d4-2ffb-4821-b525-8c424b8f1bbb"
      },
      "outputs": [
        {
          "name": "stdout",
          "output_type": "stream",
          "text": [
            "+-----+-----+\n",
            "|stock|count|\n",
            "+-----+-----+\n",
            "|   AA|  252|\n",
            "|ARNCA|   21|\n",
            "|   PG|   23|\n",
            "|  IBM|  252|\n",
            "| ARNC|  231|\n",
            "+-----+-----+\n",
            "\n"
          ]
        }
      ],
      "source": [
        "df.where(F.col('open') > 2).groupby(F.col('stock')).count().show()"
      ]
    },
    {
      "cell_type": "markdown",
      "metadata": {
        "id": "5XqgRnTi9I8z"
      },
      "source": [
        " ## 📔️**Notes** 📔️\n",
        "\n",
        " *Use this cell to note down any potential findings.*\n",
        "\n",
        " 1.All open values greater than 2 are only from stocks AA, ARNC, ARNCA, PG and IBM\n",
        " \n",
        " 2.AA and IBM have the highest and same number of values for 'open' greater than 2\n",
        "    \n",
        " "
      ]
    },
    {
      "cell_type": "markdown",
      "metadata": {
        "id": "UciX1DuL9I80"
      },
      "source": [
        "> ℹ️ **Instructions** ℹ️\n",
        ">\n",
        "> Investigate **high**, **low**, **close**, and **adj_close** to determine if any stocks may be deviating from the normal ranges of the data set. Note down the stock(s) that you come across.\n",
        ">\n",
        ">*You may use as many coding cells as necessary.*"
      ]
    },
    {
      "cell_type": "code",
      "execution_count": null,
      "metadata": {
        "colab": {
          "base_uri": "https://localhost:8080/"
        },
        "id": "I4xXMtjV9I81",
        "outputId": "3a00ffa4-37fc-4ebc-d65c-cffe814a1508"
      },
      "outputs": [
        {
          "name": "stdout",
          "output_type": "stream",
          "text": [
            "+----------+----+-------+-------+-------+----------+------+-----+\n",
            "|      date|open|   high|    low|  close| adj_close|volume|stock|\n",
            "+----------+----+-------+-------+-------+----------+------+-----+\n",
            "|1962-02-19| 0.0|  280.0|276.875|279.375| 124.94374|   600|  NAV|\n",
            "|1962-02-14| 0.0|276.875|273.125| 273.75| 122.42809|   800|  NAV|\n",
            "|1962-02-13| 0.0|  277.5|  275.0| 276.25| 123.54612|  1000|  NAV|\n",
            "|1962-02-26| 0.0|279.375| 276.25|279.375| 124.94374|   700|  NAV|\n",
            "|1962-02-06| 0.0|271.875|268.125| 271.25| 121.31004|  1600|  NAV|\n",
            "|1962-02-02| 0.0| 266.25| 263.75| 266.25|119.073845|   800|  NAV|\n",
            "|1962-02-16| 0.0|  277.5|274.375|  277.5| 124.10516|  1400|  NAV|\n",
            "|1962-02-27| 0.0|  280.0| 278.75|  280.0|  125.2233|   600|  NAV|\n",
            "|1962-02-12| 0.0| 276.25|274.375| 276.25| 123.54612|   700|  NAV|\n",
            "|1962-02-20| 0.0|  280.0|276.875|279.375| 124.94374|  1000|  NAV|\n",
            "|1962-02-09| 0.0|274.375|  272.5| 273.75| 122.42809|  1100|  NAV|\n",
            "|1962-02-28| 0.0|280.625| 278.75|  280.0|  125.2233|   800|  NAV|\n",
            "|1962-02-05| 0.0|  267.5|265.625| 266.25|119.073845|   700|  NAV|\n",
            "|1962-02-08| 0.0|  275.0|271.875| 273.75| 122.42809|   700|  NAV|\n",
            "|1962-02-01| 0.0|268.125|265.625| 266.25|119.073845|   900|  NAV|\n",
            "|1962-02-15| 0.0|  275.0|  272.5|274.375|122.707565|  1200|  NAV|\n",
            "|1962-02-07| 0.0|274.375|  270.0|274.375|122.707565|  1300|  NAV|\n",
            "|1962-02-23| 0.0|279.375| 276.25| 278.75| 124.66421|   600|  NAV|\n",
            "|1962-02-21| 0.0| 281.25|276.875|276.875|123.825645|  1200|  NAV|\n",
            "|1962-09-25| 0.0|225.625|224.375|225.625| 104.56268|   300|  NAV|\n",
            "+----------+----+-------+-------+-------+----------+------+-----+\n",
            "only showing top 20 rows\n",
            "\n"
          ]
        }
      ],
      "source": [
        "#TODO: Write your code here\n",
        "df.where(~F.col('high').between(0, 60)).show(20)"
      ]
    },
    {
      "cell_type": "code",
      "execution_count": null,
      "metadata": {
        "colab": {
          "base_uri": "https://localhost:8080/"
        },
        "id": "QK1RUHAU3PF8",
        "outputId": "a4be6482-b2a4-4cdc-b42d-adefb95d4dec"
      },
      "outputs": [
        {
          "name": "stdout",
          "output_type": "stream",
          "text": [
            "+-----+-----+\n",
            "|stock|count|\n",
            "+-----+-----+\n",
            "|  NAV|  252|\n",
            "+-----+-----+\n",
            "\n"
          ]
        }
      ],
      "source": [
        "df.where(~F.col('high').between(0, 60)).groupby(df['stock']).count().show()"
      ]
    },
    {
      "cell_type": "code",
      "execution_count": null,
      "metadata": {
        "colab": {
          "base_uri": "https://localhost:8080/"
        },
        "id": "PCOMMHrs5byz",
        "outputId": "86edca1f-fa79-4a06-f788-be29164e8445"
      },
      "outputs": [
        {
          "name": "stdout",
          "output_type": "stream",
          "text": [
            "+----------+----+-------+-------+-------+----------+------+-----+\n",
            "|      date|open|   high|    low|  close| adj_close|volume|stock|\n",
            "+----------+----+-------+-------+-------+----------+------+-----+\n",
            "|1962-02-19| 0.0|  280.0|276.875|279.375| 124.94374|   600|  NAV|\n",
            "|1962-02-14| 0.0|276.875|273.125| 273.75| 122.42809|   800|  NAV|\n",
            "|1962-02-13| 0.0|  277.5|  275.0| 276.25| 123.54612|  1000|  NAV|\n",
            "|1962-02-26| 0.0|279.375| 276.25|279.375| 124.94374|   700|  NAV|\n",
            "|1962-02-06| 0.0|271.875|268.125| 271.25| 121.31004|  1600|  NAV|\n",
            "|1962-02-02| 0.0| 266.25| 263.75| 266.25|119.073845|   800|  NAV|\n",
            "|1962-02-16| 0.0|  277.5|274.375|  277.5| 124.10516|  1400|  NAV|\n",
            "|1962-02-27| 0.0|  280.0| 278.75|  280.0|  125.2233|   600|  NAV|\n",
            "|1962-02-12| 0.0| 276.25|274.375| 276.25| 123.54612|   700|  NAV|\n",
            "|1962-02-20| 0.0|  280.0|276.875|279.375| 124.94374|  1000|  NAV|\n",
            "|1962-02-09| 0.0|274.375|  272.5| 273.75| 122.42809|  1100|  NAV|\n",
            "|1962-02-28| 0.0|280.625| 278.75|  280.0|  125.2233|   800|  NAV|\n",
            "|1962-02-05| 0.0|  267.5|265.625| 266.25|119.073845|   700|  NAV|\n",
            "|1962-02-08| 0.0|  275.0|271.875| 273.75| 122.42809|   700|  NAV|\n",
            "|1962-02-01| 0.0|268.125|265.625| 266.25|119.073845|   900|  NAV|\n",
            "|1962-02-15| 0.0|  275.0|  272.5|274.375|122.707565|  1200|  NAV|\n",
            "|1962-02-07| 0.0|274.375|  270.0|274.375|122.707565|  1300|  NAV|\n",
            "|1962-02-23| 0.0|279.375| 276.25| 278.75| 124.66421|   600|  NAV|\n",
            "|1962-02-21| 0.0| 281.25|276.875|276.875|123.825645|  1200|  NAV|\n",
            "|1962-09-25| 0.0|225.625|224.375|225.625| 104.56268|   300|  NAV|\n",
            "+----------+----+-------+-------+-------+----------+------+-----+\n",
            "only showing top 20 rows\n",
            "\n"
          ]
        }
      ],
      "source": [
        "df.where(~F.col('low').between(0, 60)).show(20)"
      ]
    },
    {
      "cell_type": "code",
      "execution_count": null,
      "metadata": {
        "colab": {
          "base_uri": "https://localhost:8080/"
        },
        "id": "AV7Qj0TG58ic",
        "outputId": "86104eca-e9b1-4b4f-df4f-23b6d52cd736"
      },
      "outputs": [
        {
          "name": "stdout",
          "output_type": "stream",
          "text": [
            "+-----+-----+\n",
            "|stock|count|\n",
            "+-----+-----+\n",
            "|  NAV|  232|\n",
            "+-----+-----+\n",
            "\n"
          ]
        }
      ],
      "source": [
        "df.where(~F.col('low').between(0, 60)).groupby(df['stock']).count().show()"
      ]
    },
    {
      "cell_type": "code",
      "execution_count": null,
      "metadata": {
        "colab": {
          "base_uri": "https://localhost:8080/"
        },
        "id": "vCorW5U26H7u",
        "outputId": "307f25b5-7399-4106-e06b-18d9f91df7da"
      },
      "outputs": [
        {
          "name": "stdout",
          "output_type": "stream",
          "text": [
            "+----------+----+-------+-------+-------+----------+------+-----+\n",
            "|      date|open|   high|    low|  close| adj_close|volume|stock|\n",
            "+----------+----+-------+-------+-------+----------+------+-----+\n",
            "|1962-02-19| 0.0|  280.0|276.875|279.375| 124.94374|   600|  NAV|\n",
            "|1962-02-14| 0.0|276.875|273.125| 273.75| 122.42809|   800|  NAV|\n",
            "|1962-02-13| 0.0|  277.5|  275.0| 276.25| 123.54612|  1000|  NAV|\n",
            "|1962-02-26| 0.0|279.375| 276.25|279.375| 124.94374|   700|  NAV|\n",
            "|1962-02-06| 0.0|271.875|268.125| 271.25| 121.31004|  1600|  NAV|\n",
            "|1962-02-02| 0.0| 266.25| 263.75| 266.25|119.073845|   800|  NAV|\n",
            "|1962-02-16| 0.0|  277.5|274.375|  277.5| 124.10516|  1400|  NAV|\n",
            "|1962-02-27| 0.0|  280.0| 278.75|  280.0|  125.2233|   600|  NAV|\n",
            "|1962-02-12| 0.0| 276.25|274.375| 276.25| 123.54612|   700|  NAV|\n",
            "|1962-02-20| 0.0|  280.0|276.875|279.375| 124.94374|  1000|  NAV|\n",
            "|1962-02-09| 0.0|274.375|  272.5| 273.75| 122.42809|  1100|  NAV|\n",
            "|1962-02-28| 0.0|280.625| 278.75|  280.0|  125.2233|   800|  NAV|\n",
            "|1962-02-05| 0.0|  267.5|265.625| 266.25|119.073845|   700|  NAV|\n",
            "|1962-02-08| 0.0|  275.0|271.875| 273.75| 122.42809|   700|  NAV|\n",
            "|1962-02-01| 0.0|268.125|265.625| 266.25|119.073845|   900|  NAV|\n",
            "|1962-02-15| 0.0|  275.0|  272.5|274.375|122.707565|  1200|  NAV|\n",
            "|1962-02-07| 0.0|274.375|  270.0|274.375|122.707565|  1300|  NAV|\n",
            "|1962-02-23| 0.0|279.375| 276.25| 278.75| 124.66421|   600|  NAV|\n",
            "|1962-02-21| 0.0| 281.25|276.875|276.875|123.825645|  1200|  NAV|\n",
            "|1962-09-25| 0.0|225.625|224.375|225.625| 104.56268|   300|  NAV|\n",
            "+----------+----+-------+-------+-------+----------+------+-----+\n",
            "only showing top 20 rows\n",
            "\n"
          ]
        }
      ],
      "source": [
        "df.where(~F.col('close').between(0, 60)).show(20)"
      ]
    },
    {
      "cell_type": "code",
      "execution_count": null,
      "metadata": {
        "colab": {
          "base_uri": "https://localhost:8080/"
        },
        "id": "nomdyrC16I4J",
        "outputId": "95a21af1-6f71-4b04-b392-e2db1f6485e2"
      },
      "outputs": [
        {
          "name": "stdout",
          "output_type": "stream",
          "text": [
            "+-----+-----+\n",
            "|stock|count|\n",
            "+-----+-----+\n",
            "|  NAV|  252|\n",
            "+-----+-----+\n",
            "\n"
          ]
        }
      ],
      "source": [
        "df.where(~F.col('close').between(0, 60)).groupby(df['stock']).count().show()"
      ]
    },
    {
      "cell_type": "code",
      "execution_count": null,
      "metadata": {
        "colab": {
          "base_uri": "https://localhost:8080/"
        },
        "id": "vLdLcJ_Q6dYD",
        "outputId": "533afddd-bb0f-4dcc-f9c7-6cc0c770977b"
      },
      "outputs": [
        {
          "name": "stdout",
          "output_type": "stream",
          "text": [
            "+----------+----+-------+-------+-------+----------+------+-----+\n",
            "|      date|open|   high|    low|  close| adj_close|volume|stock|\n",
            "+----------+----+-------+-------+-------+----------+------+-----+\n",
            "|1962-02-19| 0.0|  280.0|276.875|279.375| 124.94374|   600|  NAV|\n",
            "|1962-02-14| 0.0|276.875|273.125| 273.75| 122.42809|   800|  NAV|\n",
            "|1962-02-13| 0.0|  277.5|  275.0| 276.25| 123.54612|  1000|  NAV|\n",
            "|1962-02-26| 0.0|279.375| 276.25|279.375| 124.94374|   700|  NAV|\n",
            "|1962-02-06| 0.0|271.875|268.125| 271.25| 121.31004|  1600|  NAV|\n",
            "|1962-02-02| 0.0| 266.25| 263.75| 266.25|119.073845|   800|  NAV|\n",
            "|1962-02-16| 0.0|  277.5|274.375|  277.5| 124.10516|  1400|  NAV|\n",
            "|1962-02-27| 0.0|  280.0| 278.75|  280.0|  125.2233|   600|  NAV|\n",
            "|1962-02-12| 0.0| 276.25|274.375| 276.25| 123.54612|   700|  NAV|\n",
            "|1962-02-20| 0.0|  280.0|276.875|279.375| 124.94374|  1000|  NAV|\n",
            "|1962-02-09| 0.0|274.375|  272.5| 273.75| 122.42809|  1100|  NAV|\n",
            "|1962-02-28| 0.0|280.625| 278.75|  280.0|  125.2233|   800|  NAV|\n",
            "|1962-02-05| 0.0|  267.5|265.625| 266.25|119.073845|   700|  NAV|\n",
            "|1962-02-08| 0.0|  275.0|271.875| 273.75| 122.42809|   700|  NAV|\n",
            "|1962-02-01| 0.0|268.125|265.625| 266.25|119.073845|   900|  NAV|\n",
            "|1962-02-15| 0.0|  275.0|  272.5|274.375|122.707565|  1200|  NAV|\n",
            "|1962-02-07| 0.0|274.375|  270.0|274.375|122.707565|  1300|  NAV|\n",
            "|1962-02-23| 0.0|279.375| 276.25| 278.75| 124.66421|   600|  NAV|\n",
            "|1962-02-21| 0.0| 281.25|276.875|276.875|123.825645|  1200|  NAV|\n",
            "|1962-09-25| 0.0|225.625|224.375|225.625| 104.56268|   300|  NAV|\n",
            "+----------+----+-------+-------+-------+----------+------+-----+\n",
            "only showing top 20 rows\n",
            "\n"
          ]
        }
      ],
      "source": [
        "df.where(~F.col('adj_close').between(0, 15)).show(20)"
      ]
    },
    {
      "cell_type": "code",
      "execution_count": null,
      "metadata": {
        "colab": {
          "base_uri": "https://localhost:8080/"
        },
        "id": "UwTQ_JFh6c4f",
        "outputId": "0950fab6-2457-41a4-fc27-e5cc72cc330b"
      },
      "outputs": [
        {
          "name": "stdout",
          "output_type": "stream",
          "text": [
            "+-----+-----+\n",
            "|stock|count|\n",
            "+-----+-----+\n",
            "|  NAV|  252|\n",
            "+-----+-----+\n",
            "\n"
          ]
        }
      ],
      "source": [
        "df.where(~F.col('adj_close').between(0, 15)).groupby(df['stock']).count().show()"
      ]
    },
    {
      "cell_type": "markdown",
      "metadata": {
        "id": "bzwqKEaf9I82"
      },
      "source": [
        " ## 📔️**Notes** 📔️\n",
        "\n",
        " *Use this cell to note down any potential findings.*\n",
        "\n",
        " 1.For the high, low, close and adj_close values all the outliers are from the NAV stock.\n",
        "\n",
        " 2.The low column has less outliers than the other 3 columns observed here.\n",
        "    "
      ]
    },
    {
      "cell_type": "markdown",
      "metadata": {
        "id": "RYIXC-7U9I83"
      },
      "source": [
        "\n",
        "\n",
        "## Completeness\n",
        "\n",
        "Completeness is the proportion of stored data against the potential of “100% complete\". This is the degree to which the required data is in the dataset. \n",
        "\n",
        "Does the dataset have missing values, or if it is time-series data, does it have time period gaps? Has a bias been introduced that may change your assumptions or affect your results?\n",
        "\n",
        "Completeness issues can occur at the row level (gaps within the dataset) or the field level (one entry missing). At the field level, entire fields can being empty, or >80% of a field's data missing. \n",
        "\n",
        "Another issue that may occur is default values. A typical example of this is where a logger sends back a 0 instead of a null value, which can greatly skew any attempts at modelling. This is where it is instrumental to employ domain knowledge when assessing a dataset. \n",
        "\n",
        "- **Measured by**: A measure of the absence of blank (null) values or the presence of non-blank values;\n",
        "- **Units**: Percentage;\n",
        "- **Related to**: Validity and Accuracy."
      ]
    },
    {
      "cell_type": "markdown",
      "metadata": {
        "id": "0lktn0bM9I84"
      },
      "source": [
        "### Missing values\n",
        "\n",
        "> ℹ️ **Instructions** ℹ️\n",
        ">\n",
        "> Write code to identify and count the number of missing values (nulls) in the dataset. Include a percentage to describe the proportion of missing values per column. Output the results in the following manner:\n",
        ">\n",
        "> `There are <number_of_missing_values> (<percentage>) null values in <column_name> column`\n",
        ">\n",
        ">*You may use as many coding cells as necessary.*"
      ]
    },
    {
      "cell_type": "code",
      "execution_count": null,
      "metadata": {
        "colab": {
          "base_uri": "https://localhost:8080/"
        },
        "id": "6udb28hM9I84",
        "outputId": "3d2fee98-4d84-4c17-ee5c-fc1c254b7edb"
      },
      "outputs": [
        {
          "name": "stdout",
          "output_type": "stream",
          "text": [
            "There are 0 (0.0%) null values in date column\n",
            "There are 0 (0.0%) null values in open column\n",
            "There are 0 (0.0%) null values in high column\n",
            "There are 42 (0.82%) null values in low column\n",
            "There are 0 (0.0%) null values in close column\n",
            "There are 21 (0.41%) null values in adj_close column\n",
            "There are 21 (0.41%) null values in volume column\n",
            "There are 0 (0.0%) null values in stock column\n"
          ]
        }
      ],
      "source": [
        "#TODO: Write your code here\n",
        "for col in df.columns:\n",
        "  count = df.where(df[col].isNull()).count()\n",
        "  total_count = df.select(df[col]).count()\n",
        "  percentage = round((count/total_count)*100, 2)\n",
        "  print(f'There are {count} ({percentage}%) null values in {col} column')"
      ]
    },
    {
      "cell_type": "markdown",
      "metadata": {
        "id": "6zc81Tuf9I85"
      },
      "source": [
        "### Columns with missing values"
      ]
    },
    {
      "cell_type": "markdown",
      "metadata": {
        "id": "9vLA7CLD9I86"
      },
      "source": [
        "\n",
        "> ℹ️ **Instructions** ℹ️\n",
        ">\n",
        "> From the above result, probe the columns that are affected by the missing data to find out which stocks were affected.\n",
        ">\n",
        ">*You may use as many coding cells as necessary.*"
      ]
    },
    {
      "cell_type": "code",
      "execution_count": null,
      "metadata": {
        "colab": {
          "base_uri": "https://localhost:8080/"
        },
        "id": "rfz3-Vh09I86",
        "outputId": "8e1abced-94f3-47a3-93af-3069f7011b0d"
      },
      "outputs": [
        {
          "name": "stdout",
          "output_type": "stream",
          "text": [
            "+----------+---------+---------+----+---------+----------+------+-----+\n",
            "|      date|     open|     high| low|    close| adj_close|volume|stock|\n",
            "+----------+---------+---------+----+---------+----------+------+-----+\n",
            "|1962-12-03|      0.0|    247.5|null|    247.5|  114.7004|   500|  NAV|\n",
            "|1962-12-20|      0.0|   241.25|null|  239.375|112.296135|   600|  NAV|\n",
            "|1962-12-21|      0.0|  243.125|null|    242.5| 113.76213|   500|  NAV|\n",
            "|1962-03-20|1.6666666|1.6979166|null|1.6979166|0.14584826|177600|  CAT|\n",
            "|1962-12-31|      0.0|  250.625|null|   248.75| 116.69414|   600|  NAV|\n",
            "|1962-03-14|1.6302084|1.6614584|null|1.6614584|0.14271663|117600|  CAT|\n",
            "|1962-12-28|      0.0|  249.375|null|  248.125| 116.40094|   300|  NAV|\n",
            "|1962-12-18|      0.0|   238.75|null|   236.25|  110.8301|   900|  NAV|\n",
            "|1962-03-22|1.6666666|1.6927084|null|1.6822916|0.14450607|268800|  CAT|\n",
            "|1962-03-19|1.6614584|1.6822916|null|1.6614584|0.14271663|105600|  CAT|\n",
            "|1962-12-19|      0.0|    240.0|null|    240.0|112.589325|   700|  NAV|\n",
            "|1962-12-27|      0.0|  248.125|null|  248.125| 116.40094|   600|  NAV|\n",
            "|1962-03-15|1.6614584|1.6614584|null|1.6458334|0.14137442|139200|  CAT|\n",
            "|1962-03-13|1.6145834|1.6354166|null|    1.625|0.13958487|141600|  CAT|\n",
            "|1962-03-01|1.6822916| 1.703125|null|1.6822916|0.14450607| 74400|  CAT|\n",
            "|1962-03-27| 1.671875|1.6770834|null| 1.671875|0.14361136|112800|  CAT|\n",
            "|1962-12-24|      0.0|    245.0|null|  244.375| 114.64173|   500|  NAV|\n",
            "|1962-03-16|1.6458334|1.6614584|null|1.6614584|0.14271663| 79200|  CAT|\n",
            "|1962-12-26|      0.0|  246.875|null|   246.25|115.521324|   500|  NAV|\n",
            "|1962-03-30|1.6822916| 1.703125|null| 1.703125|0.14629564| 86400|  CAT|\n",
            "+----------+---------+---------+----+---------+----------+------+-----+\n",
            "only showing top 20 rows\n",
            "\n"
          ]
        }
      ],
      "source": [
        "#TODO: Write your code here\n",
        "df.where(df.low.isNull()).show()"
      ]
    },
    {
      "cell_type": "code",
      "execution_count": null,
      "metadata": {
        "colab": {
          "base_uri": "https://localhost:8080/"
        },
        "id": "Sa3gEF32Ap7b",
        "outputId": "f9e6b58b-24e2-412f-bdd9-e98ec793ae98"
      },
      "outputs": [
        {
          "name": "stdout",
          "output_type": "stream",
          "text": [
            "+-----+-----+\n",
            "|stock|count|\n",
            "+-----+-----+\n",
            "|  CAT|   22|\n",
            "|  NAV|   20|\n",
            "+-----+-----+\n",
            "\n"
          ]
        }
      ],
      "source": [
        "df.where(df.low.isNull()).groupby(df.stock).count().show()"
      ]
    },
    {
      "cell_type": "code",
      "execution_count": null,
      "metadata": {
        "colab": {
          "base_uri": "https://localhost:8080/"
        },
        "id": "Cx4DkmalA-ez",
        "outputId": "42bcec51-f5f2-4e01-c6b0-5a0bf4e3318d"
      },
      "outputs": [
        {
          "name": "stdout",
          "output_type": "stream",
          "text": [
            "+----------+----+---------+---------+---------+---------+------+-----+\n",
            "|      date|open|     high|      low|    close|adj_close|volume|stock|\n",
            "+----------+----+---------+---------+---------+---------+------+-----+\n",
            "|1962-06-12| 0.0|5.6666665|5.6041665|5.6041665|     null| 50400|   FL|\n",
            "|1962-06-06| 0.0|    5.875|  5.65625|5.8333335|     null|109200|   FL|\n",
            "|1962-06-07| 0.0|  5.84375|5.7291665|5.7291665|     null| 36000|   FL|\n",
            "|1962-06-18| 0.0|5.6666665|      5.5|   5.5625|     null| 42000|   FL|\n",
            "|1962-06-15| 0.0|5.6666665|5.4583335|5.6666665|     null| 64800|   FL|\n",
            "|1962-06-22| 0.0|5.3645835|5.2916665|5.2916665|     null| 67200|   FL|\n",
            "|1962-06-21| 0.0|  5.46875|5.4166665|5.4166665|     null| 49200|   FL|\n",
            "|1962-06-19| 0.0|      5.5|5.4791665|5.4791665|     null| 19200|   FL|\n",
            "|1962-06-20| 0.0|  5.53125|5.4583335|5.4583335|     null| 34800|   FL|\n",
            "|1962-06-01| 0.0|5.8333335|     5.75|5.7916665|     null| 49200|   FL|\n",
            "|1962-06-11| 0.0|5.7083335|5.6458335|5.6458335|     null|  8400|   FL|\n",
            "|1962-06-05| 0.0|5.6666665|  5.59375|5.6145835|     null| 52800|   FL|\n",
            "|1962-06-04| 0.0|5.7708335|5.6458335|5.6666665|     null| 68400|   FL|\n",
            "|1962-06-28| 0.0|  5.46875|5.3333335|5.4583335|     null| 26400|   FL|\n",
            "|1962-06-08| 0.0|5.7916665|5.6458335|5.6458335|     null| 20400|   FL|\n",
            "|1962-06-27| 0.0|  5.40625|   5.3125|5.3541665|     null| 51600|   FL|\n",
            "|1962-06-26| 0.0|   5.4375|  5.34375|5.3645835|     null| 56400|   FL|\n",
            "|1962-06-25| 0.0|   5.3125|5.2083335|     5.25|     null| 90000|   FL|\n",
            "|1962-06-14| 0.0|5.5833335|5.5208335|5.5208335|     null| 48000|   FL|\n",
            "|1962-06-29| 0.0|      5.5|    5.375|    5.375|     null| 28800|   FL|\n",
            "+----------+----+---------+---------+---------+---------+------+-----+\n",
            "only showing top 20 rows\n",
            "\n"
          ]
        }
      ],
      "source": [
        "df.where(df.adj_close.isNull()).show()"
      ]
    },
    {
      "cell_type": "code",
      "execution_count": null,
      "metadata": {
        "colab": {
          "base_uri": "https://localhost:8080/"
        },
        "id": "aIvolGutBOqo",
        "outputId": "75c76e80-2e35-4c0a-a46c-b8d97be35067"
      },
      "outputs": [
        {
          "name": "stdout",
          "output_type": "stream",
          "text": [
            "+-----+-----+\n",
            "|stock|count|\n",
            "+-----+-----+\n",
            "|   FL|   21|\n",
            "+-----+-----+\n",
            "\n"
          ]
        }
      ],
      "source": [
        "df.where(df.adj_close.isNull()).groupby(df.stock).count().show()"
      ]
    },
    {
      "cell_type": "code",
      "execution_count": null,
      "metadata": {
        "colab": {
          "base_uri": "https://localhost:8080/"
        },
        "id": "AtI97vDTA-Qp",
        "outputId": "9a5136e9-71c3-4f97-d294-d7e72a8874c0"
      },
      "outputs": [
        {
          "name": "stdout",
          "output_type": "stream",
          "text": [
            "+----------+----+----------+----------+----------+------------+------+-----+\n",
            "|      date|open|      high|       low|     close|   adj_close|volume|stock|\n",
            "+----------+----+----------+----------+----------+------------+------+-----+\n",
            "|1962-07-20| 0.0| 0.1730324| 0.1724537| 0.1724537| 4.874888E-7|  null|  JNJ|\n",
            "|1962-07-25| 0.0| 0.1724537|0.16435185|0.16435185|4.6458675E-7|  null|  JNJ|\n",
            "|1962-07-03| 0.0|0.18171297|0.17824075|0.18171297| 5.136628E-7|  null|  JNJ|\n",
            "|1962-07-17| 0.0|0.17766203|0.17766203|0.17766203| 5.022119E-7|  null|  JNJ|\n",
            "|1962-07-09| 0.0|0.17708333|0.17708333|0.17708333|5.0057577E-7|  null|  JNJ|\n",
            "|1962-07-18| 0.0|0.17534722|0.17418982|0.17418982| 4.923964E-7|  null|  JNJ|\n",
            "|1962-07-27| 0.0| 0.1701389|0.16898148|0.16956018|4.7930956E-7|  null|  JNJ|\n",
            "|1962-07-31| 0.0|0.17274305| 0.1712963|0.17274305| 4.883069E-7|  null|  JNJ|\n",
            "|1962-07-16| 0.0|0.17881945|0.17766203|0.17766203| 5.022119E-7|  null|  JNJ|\n",
            "|1962-07-02| 0.0|0.18229167|0.17650463|0.18229167|5.1529855E-7|  null|  JNJ|\n",
            "|1962-07-24| 0.0| 0.1701389|0.16319445|0.16319445|4.6131473E-7|  null|  JNJ|\n",
            "|1962-07-11| 0.0|0.17592593| 0.1724537|0.17418982| 4.923964E-7|  null|  JNJ|\n",
            "|1962-07-13| 0.0|0.18113425|0.17592593|0.18113425| 5.120267E-7|  null|  JNJ|\n",
            "|1962-07-19| 0.0| 0.1736111| 0.1724537| 0.1724537| 4.874888E-7|  null|  JNJ|\n",
            "|1962-07-06| 0.0|0.18055555|0.17476852|0.17476852| 4.940323E-7|  null|  JNJ|\n",
            "|1962-07-12| 0.0|0.18113425|0.17592593|0.17881945| 5.054835E-7|  null|  JNJ|\n",
            "|1962-07-26| 0.0|0.16956018|0.16608797|0.16956018|4.7930956E-7|  null|  JNJ|\n",
            "|1962-07-05| 0.0|0.18229167|0.17939815|0.18229167|5.1529855E-7|  null|  JNJ|\n",
            "|1962-07-30| 0.0|0.16898148|0.16782407|0.16898148| 4.776736E-7|  null|  JNJ|\n",
            "|1962-07-23| 0.0| 0.1730324| 0.1707176| 0.1707176| 4.825813E-7|  null|  JNJ|\n",
            "+----------+----+----------+----------+----------+------------+------+-----+\n",
            "only showing top 20 rows\n",
            "\n"
          ]
        }
      ],
      "source": [
        "df.where(df.volume.isNull()).show()"
      ]
    },
    {
      "cell_type": "code",
      "execution_count": null,
      "metadata": {
        "colab": {
          "base_uri": "https://localhost:8080/"
        },
        "id": "3_uLPIdsBdp1",
        "outputId": "ccc960d9-be7a-425e-bfbf-50d51a7585b0"
      },
      "outputs": [
        {
          "name": "stdout",
          "output_type": "stream",
          "text": [
            "+-----+-----+\n",
            "|stock|count|\n",
            "+-----+-----+\n",
            "|  JNJ|   21|\n",
            "+-----+-----+\n",
            "\n"
          ]
        }
      ],
      "source": [
        "df.where(df.volume.isNull()).groupby(df.stock).count().show()"
      ]
    },
    {
      "cell_type": "markdown",
      "metadata": {
        "id": "TC5557uT9I87"
      },
      "source": [
        "#### Fix Completeness\n",
        "\n",
        "How do we deal with incomplete data?\n",
        "- Dropping missing values\n",
        "- Discard the incomplete column\n",
        "- Discard the rows containing missing data\n",
        "- Case deletion\n",
        "\n",
        "> ℹ️ **Instructions** ℹ️\n",
        ">\n",
        "> Use the appropriate strategy to remedy the missing data. \n",
        ">\n",
        ">*You may use as many coding cells as necessary.*"
      ]
    },
    {
      "cell_type": "code",
      "execution_count": null,
      "metadata": {
        "id": "B-cK90JJ9I88"
      },
      "outputs": [],
      "source": [
        "#TODO: Write your code here\n",
        "\"\"\" \n",
        "Since the missing data is of very little volume, less than 1%\n",
        "of each column where it appears, we can drop these values\n",
        "\"\"\"\n",
        "df=df.na.drop()"
      ]
    },
    {
      "cell_type": "markdown",
      "metadata": {
        "id": "7kOhFljY9I89"
      },
      "source": [
        "### Zero Values\n",
        "\n",
        "Take a deeper look into the entries with many zero values."
      ]
    },
    {
      "cell_type": "markdown",
      "metadata": {
        "id": "c3uJEv-u9I89"
      },
      "source": [
        "#### Fix Completeness\n",
        "\n",
        "Completeness issues can be fixed through imputation of the missing data through:\n",
        "- imputation by mean/mode/median;\n",
        "- regression; or\n",
        "- KNN.\n",
        " \n",
        "> ℹ️ **Instructions** ℹ️\n",
        ">\n",
        "> Write code to identify and count the number of zeros (0) in the dataset. Include a percentage to describe the proportion of missing values per column. Output the results in the following manner:\n",
        ">\n",
        "> `There are <number_of_zeros> (<percentage>) zero values in <column_name> column`\n",
        ">\n",
        ">*You may use as many coding cells as necessary.*"
      ]
    },
    {
      "cell_type": "code",
      "execution_count": null,
      "metadata": {
        "colab": {
          "base_uri": "https://localhost:8080/"
        },
        "id": "JF9T7sS-9I8-",
        "outputId": "7684562f-f5db-4147-95fd-b8a5574122a2"
      },
      "outputs": [
        {
          "name": "stdout",
          "output_type": "stream",
          "text": [
            "There are 2706 (53.88%) zero values in open column\n",
            "There are 20 (0.4%) zero values in high column\n",
            "There are 0 (0.0%) zero values in low column\n",
            "There are 0 (0.0%) zero values in close column\n",
            "There are 0 (0.0%) zero values in adj_close column\n",
            "There are 27 (0.54%) zero values in volume column\n"
          ]
        }
      ],
      "source": [
        "#TODO: Write your code here\n",
        "for col in num_cols:\n",
        "  zero_count = df.where(df[col]==0).count()\n",
        "  zero_total_count = df.select(df[col]).count()\n",
        "  zero_percentage = round((zero_count/zero_total_count)*100, 2)\n",
        "  print(f'There are {zero_count} ({zero_percentage}%) zero values in {col} column')"
      ]
    },
    {
      "cell_type": "markdown",
      "metadata": {
        "id": "W3iAtv6k9I8_"
      },
      "source": [
        "From the above section, you find that there are a few columns that contain zero values. However, some of these are true zeros and are explainable. Your task is to distinguish which column should undergo data imputation.\n",
        "\n",
        "> ℹ️ **Instructions** ℹ️\n",
        ">\n",
        "> Investigate the columns with zero values and determine which one should undergo data imputation. Take note of the stock and month on which zero values occurred.\n",
        ">\n",
        ">*You may use as many coding cells as necessary.*"
      ]
    },
    {
      "cell_type": "code",
      "execution_count": null,
      "metadata": {
        "colab": {
          "base_uri": "https://localhost:8080/"
        },
        "id": "x8fxMZ4H9I8_",
        "outputId": "84852cfa-2de5-4d78-c92e-74397e9fbbe7"
      },
      "outputs": [
        {
          "name": "stdout",
          "output_type": "stream",
          "text": [
            "+----------+----+----------+----------+----------+------------+-------+-----+\n",
            "|      date|open|      high|       low|     close|   adj_close| volume|stock|\n",
            "+----------+----+----------+----------+----------+------------+-------+-----+\n",
            "|1962-02-19| 0.0|  3.578869|      20.0|  3.549107| 0.056501225| 273600|  CVX|\n",
            "|1962-02-19| 0.0|   29.9375|     29.75|   29.9375|  0.49964145|   1600|  DTE|\n",
            "|1962-02-19| 0.0|  9.921875|  9.890625|  9.921875|  0.22499175|   8800|   ED|\n",
            "|1962-02-19| 0.0| 7.0833335| 7.0208335| 7.0208335|  0.91296524|  20400|   FL|\n",
            "|1962-02-19| 0.0|   10.9375|     10.75|   10.9375|   1.9131781|  22800|   GT|\n",
            "|1962-02-19| 0.0|  9.003848|  8.822562|  8.882991|   0.7784165|  39300|   IP|\n",
            "|1962-02-19| 0.0|0.23206018|0.23206018|0.23206018| 6.541049E-7|  43200|  JNJ|\n",
            "|1962-02-19| 0.0|0.17881945|0.17621528|0.17708333|2.1674694E-4| 460800|   MO|\n",
            "|1962-02-19| 0.0|     280.0|   276.875|   279.375|   124.94374|    600|  NAV|\n",
            "|1962-02-19| 0.0| 1.2734375|  1.265625|  1.265625| 0.012011507| 281600|   PG|\n",
            "|1962-02-19| 0.0| 1.7460938| 1.7109375| 1.7382812| 0.015494763|1657600|  XOM|\n",
            "|1962-02-14| 0.0| 3.4970238|      20.0| 3.4970238| 0.055672023| 116800|  CVX|\n",
            "|1962-02-14| 0.0|   30.1875|   29.6875|    29.875|   0.4985984|   2000|  DTE|\n",
            "|1962-02-14| 0.0|   9.90625|  9.796875|   9.90625|  0.22463761|  41600|   ED|\n",
            "|1962-02-14| 0.0| 7.0833335| 7.0520835| 7.0520835|  0.91702884|  18000|   FL|\n",
            "|1962-02-14| 0.0|  10.78125|  10.59375|  10.78125|   1.8858457|  20800|   GT|\n",
            "|1962-02-14| 0.0|  8.762134|  8.641277|  8.701706|   0.7625307|  30000|   IP|\n",
            "|1962-02-14| 0.0|0.24074075| 0.2337963| 0.2349537| 6.622604E-7|1080000|  JNJ|\n",
            "|1962-02-14| 0.0|0.17708333|0.17621528|0.17621528|2.1568447E-4| 172800|   MO|\n",
            "|1962-02-14| 0.0|   276.875|   273.125|    273.75|   122.42809|    800|  NAV|\n",
            "+----------+----+----------+----------+----------+------------+-------+-----+\n",
            "only showing top 20 rows\n",
            "\n"
          ]
        }
      ],
      "source": [
        "#TODO: Write your code here\n",
        "df.where(df.open==0).show()"
      ]
    },
    {
      "cell_type": "code",
      "execution_count": null,
      "metadata": {
        "colab": {
          "base_uri": "https://localhost:8080/"
        },
        "id": "MnFM3yQsHYG6",
        "outputId": "29effc96-083a-4d19-b994-d18000cca7b2"
      },
      "outputs": [
        {
          "name": "stdout",
          "output_type": "stream",
          "text": [
            "+----------+---------+----+---------+---------+----------+------+-----+\n",
            "|      date|     open|high|      low|    close| adj_close|volume|stock|\n",
            "+----------+---------+----+---------+---------+----------+------+-----+\n",
            "|1962-11-05|1.4114584| 0.0|1.4114584|   1.4375|0.12620474|172800|  CAT|\n",
            "|1962-11-12| 1.453125| 0.0|1.4427084|1.4583334|0.12803373| 96000|  CAT|\n",
            "|1962-11-08|1.4583334| 0.0|1.4427084|1.4583334|0.12803373|129600|  CAT|\n",
            "|1962-11-01|1.3697916| 0.0|1.3697916|1.4010416| 0.1230039|136800|  CAT|\n",
            "|1962-11-29|1.5052084| 0.0|1.5052084|1.5052084|0.13214913|132000|  CAT|\n",
            "|1962-11-28|      1.5| 0.0|1.4947916|1.5052084|0.13214913|177600|  CAT|\n",
            "|1962-11-30|1.5052084| 0.0|1.5052084|1.5052084|0.13214913|124800|  CAT|\n",
            "|1962-11-26|      1.5| 0.0|1.4947916|      1.5|0.13169187|187200|  CAT|\n",
            "|1962-11-02|1.4010416| 0.0|1.3958334|1.4114584|0.12391846|211200|  CAT|\n",
            "|1962-11-21|      1.5| 0.0|1.4947916|      1.5|0.13169187|105600|  CAT|\n",
            "|1962-11-16|      1.5| 0.0|1.4947916|      1.5|0.13169187|127200|  CAT|\n",
            "|1962-11-20|      1.5| 0.0|1.4947916|      1.5|0.13169187|112800|  CAT|\n",
            "|1962-11-15|1.5052084| 0.0|1.4947916|      1.5|0.13169187|187200|  CAT|\n",
            "|1962-11-09| 1.453125| 0.0|   1.4375| 1.453125|0.12757647|120000|  CAT|\n",
            "|1962-11-23|      1.5| 0.0|1.4947916|      1.5|0.13169187|228000|  CAT|\n",
            "|1962-11-19|      1.5| 0.0|1.4895834|      1.5|0.13169187|112800|  CAT|\n",
            "|1962-11-27|      1.5| 0.0| 1.484375|      1.5|0.13169187|165600|  CAT|\n",
            "|1962-11-14| 1.484375| 0.0|1.4791666|1.5052084|0.13214913|261600|  CAT|\n",
            "|1962-11-13|1.4583334| 0.0| 1.453125| 1.484375| 0.1303201|216000|  CAT|\n",
            "|1962-11-07|   1.4375| 0.0|   1.4375|1.4583334|0.12803373|182400|  CAT|\n",
            "+----------+---------+----+---------+---------+----------+------+-----+\n",
            "\n"
          ]
        }
      ],
      "source": [
        "df.where(df.high==0).show()"
      ]
    },
    {
      "cell_type": "code",
      "execution_count": null,
      "metadata": {
        "colab": {
          "base_uri": "https://localhost:8080/"
        },
        "id": "Owlqv_oDHkKT",
        "outputId": "78d10cf7-2ec8-464e-ee06-0449674dffc8"
      },
      "outputs": [
        {
          "name": "stdout",
          "output_type": "stream",
          "text": [
            "+----------+----+----------+----------+----------+------------+------+-----+\n",
            "|      date|open|      high|       low|     close|   adj_close|volume|stock|\n",
            "+----------+----+----------+----------+----------+------------+------+-----+\n",
            "|1962-05-18| 0.0| 1.6679688| 1.6484375| 1.6679688| 0.015032374|     0|  XOM|\n",
            "|1962-09-28| 0.0|0.15914352| 0.1574074|0.15914352| 4.514184E-7|     0|  JNJ|\n",
            "|1962-05-24| 0.0| 1.6328125| 1.6171875| 1.6289062|  0.01468032|     0|  XOM|\n",
            "|1962-05-08| 0.0| 1.7265625| 1.7109375| 1.7148438| 0.015285846|     0|  XOM|\n",
            "|1962-01-02| 0.0|0.22337963|0.22222222|0.22337963| 6.281419E-7|     0|  JNJ|\n",
            "|1962-05-14| 0.0|  1.640625| 1.5820312| 1.6328125| 0.014715531|     0|  XOM|\n",
            "|1962-05-28| 0.0|    1.5625| 1.4179688|    1.4375| 0.012955305|     0|  XOM|\n",
            "|1962-05-25| 0.0| 1.6328125|  1.578125|   1.59375|  0.01436349|     0|  XOM|\n",
            "|1962-05-29| 0.0|   1.59375| 1.4179688| 1.5898438| 0.014328282|     0|  XOM|\n",
            "|1962-05-02| 0.0| 1.7148438| 1.6992188| 1.7148438| 0.015285846|     0|  XOM|\n",
            "|1962-05-31| 0.0| 1.6328125|  1.609375|     1.625| 0.014645126|     0|  XOM|\n",
            "|1962-05-16| 0.0| 1.6953125|  1.671875| 1.6796875|0.0151379965|     0|  XOM|\n",
            "|1962-05-07| 0.0| 1.7148438| 1.7070312| 1.7148438| 0.015285846|     0|  XOM|\n",
            "|1962-05-10| 0.0|    1.6875| 1.6640625| 1.6679688| 0.015032374|     0|  XOM|\n",
            "|1962-05-15| 0.0| 1.6914062| 1.6445312| 1.6796875|0.0151379965|     0|  XOM|\n",
            "|1962-05-01| 0.0| 1.6992188| 1.6601562| 1.6992188| 0.015146574|     0|  XOM|\n",
            "|1962-05-11| 0.0|  1.671875| 1.6445312| 1.6445312| 0.014821144|     0|  XOM|\n",
            "|1962-05-17| 0.0| 1.6796875| 1.6484375| 1.6640625|  0.01499716|     0|  XOM|\n",
            "|1962-05-21| 0.0|   1.65625| 1.6445312|   1.65625| 0.014926753|     0|  XOM|\n",
            "|1962-05-23| 0.0| 1.6367188| 1.6171875| 1.6210938| 0.014609924|     0|  XOM|\n",
            "+----------+----+----------+----------+----------+------------+------+-----+\n",
            "only showing top 20 rows\n",
            "\n"
          ]
        }
      ],
      "source": [
        "df.where(df.volume==0).show()"
      ]
    },
    {
      "cell_type": "markdown",
      "metadata": {
        "id": "a8sNN2X99I9A"
      },
      "source": [
        "> ℹ️ **Instructions** ℹ️\n",
        ">\n",
        "> Once you have identified the column that needs to undergo imputation, update the values for the affected records by using the average value for the affected stock.\n",
        ">\n",
        ">*You may use as many coding cells as necessary.*"
      ]
    },
    {
      "cell_type": "code",
      "execution_count": null,
      "metadata": {
        "id": "Wj5qABt39I9B"
      },
      "outputs": [],
      "source": [
        "#TODO: Write your code here\n",
        "df = df.withColumn('open',F.when(df['open']==0, df.agg(F.avg('open')).collect()[0][0]).otherwise(df.open))"
      ]
    },
    {
      "cell_type": "code",
      "execution_count": null,
      "metadata": {
        "colab": {
          "base_uri": "https://localhost:8080/"
        },
        "id": "Hn8s19o0AZsk",
        "outputId": "9f7a1b7e-b981-4cdb-aeb2-b064d0bbfae7"
      },
      "outputs": [
        {
          "name": "stdout",
          "output_type": "stream",
          "text": [
            "+----+----+----+---+-----+---------+------+-----+\n",
            "|date|open|high|low|close|adj_close|volume|stock|\n",
            "+----+----+----+---+-----+---------+------+-----+\n",
            "+----+----+----+---+-----+---------+------+-----+\n",
            "\n"
          ]
        }
      ],
      "source": [
        "df.where(df.open==0).show()"
      ]
    },
    {
      "cell_type": "markdown",
      "metadata": {
        "id": "wWJGyq2d9I9C"
      },
      "source": [
        "\n",
        "## Consistency\n",
        "\n",
        "Consistency is the absence of difference when comparing two or more representations of a thing against a reference.\n",
        "\n",
        "Data entries that refer to the same record or entity have to be consistent across all entries, e.g., if you are dealing with records from a logger in the field, the entries for that logger have to remain consistent, and the name or primary key of that logger cannot change from one entry to another. \n",
        "\n",
        "For example, 'Logger1', 'Loger1' and 'Logge1' are examples of inconsistent keys. \n",
        "\n",
        "This is not just within a single table but also becomes more important if you are dealing with relational data. In which case, the mappings between tables and systems must be consistent. If not, the relationships will be completely lost between the tables and referential integrity compromised. \n",
        "\n",
        "- **Measured by**: Analysis of pattern and/or value frequency;\n",
        "- **Units**: Percentage;\n",
        "- **Related to**: Accuracy, Validity, and Uniqueness."
      ]
    },
    {
      "cell_type": "markdown",
      "metadata": {
        "id": "BcefKsrA9I9C"
      },
      "source": [
        "> ℹ️ **Instructions** ℹ️\n",
        ">\n",
        "> There currently exists a stock that has inconsistent naming. Make use of the metadata to determine which stock is inconsistently named, then update the dataframe appropriately to get rid of this inconsistency.\n",
        ">\n",
        ">*You may use as many coding cells as necessary.*"
      ]
    },
    {
      "cell_type": "code",
      "execution_count": null,
      "metadata": {
        "colab": {
          "base_uri": "https://localhost:8080/"
        },
        "id": "S4gLL8409I9D",
        "outputId": "26cbc392-85e1-4db6-f764-ef3fe3f10480"
      },
      "outputs": [
        {
          "name": "stdout",
          "output_type": "stream",
          "text": [
            "+-------------+------+--------------------+----------------+---------------+---+--------------+----------+----------------+----------+-------------+----------+\n",
            "|Nasdaq Traded|Symbol|       Security Name|Listing Exchange|Market Category|ETF|Round Lot Size|Test Issue|Financial Status|CQS Symbol|NASDAQ Symbol|NextShares|\n",
            "+-------------+------+--------------------+----------------+---------------+---+--------------+----------+----------------+----------+-------------+----------+\n",
            "|            Y|     A|Agilent Technolog...|               N|               |  N|         100.0|         N|            null|         A|            A|         N|\n",
            "|            Y|    AA|Alcoa Corporation...|               N|               |  N|         100.0|         N|            null|        AA|           AA|         N|\n",
            "|            Y|  AAAU|Perth Mint Physic...|               P|               |  Y|         100.0|         N|            null|      AAAU|         AAAU|         N|\n",
            "|            Y|  AACG|ATA Creativity Gl...|               Q|              G|  N|         100.0|         N|               N|      null|         AACG|         N|\n",
            "|            Y|  AADR|AdvisorShares Dor...|               P|               |  Y|         100.0|         N|            null|      AADR|         AADR|         N|\n",
            "|            Y|   AAL|American Airlines...|               Q|              Q|  N|         100.0|         N|               N|      null|          AAL|         N|\n",
            "|            Y|  AAMC|Altisource Asset ...|               A|               |  N|         100.0|         N|            null|      AAMC|         AAMC|         N|\n",
            "|            Y|  AAME|Atlantic American...|               Q|              G|  N|         100.0|         N|               N|      null|         AAME|         N|\n",
            "|            Y|   AAN|Aaron's, Inc. Com...|               N|               |  N|         100.0|         N|            null|       AAN|          AAN|         N|\n",
            "|            Y|  AAOI|Applied Optoelect...|               Q|              G|  N|         100.0|         N|               N|      null|         AAOI|         N|\n",
            "|            Y|  AAON|AAON, Inc. - Comm...|               Q|              Q|  N|         100.0|         N|               N|      null|         AAON|         N|\n",
            "|            Y|   AAP|Advance Auto Part...|               N|               |  N|         100.0|         N|            null|       AAP|          AAP|         N|\n",
            "|            Y|  AAPL|Apple Inc. - Comm...|               Q|              Q|  N|         100.0|         N|               N|      null|         AAPL|         N|\n",
            "|            Y|   AAT|American Assets T...|               N|               |  N|         100.0|         N|            null|       AAT|          AAT|         N|\n",
            "|            Y|   AAU|Almaden Minerals,...|               A|               |  N|         100.0|         N|            null|       AAU|          AAU|         N|\n",
            "|            Y|  AAWW|Atlas Air Worldwi...|               Q|              Q|  N|         100.0|         N|               N|      null|         AAWW|         N|\n",
            "|            Y|  AAXJ|iShares MSCI All ...|               Q|              G|  Y|         100.0|         N|               N|      null|         AAXJ|         N|\n",
            "|            Y|  AAXN|Axon Enterprise, ...|               Q|              Q|  N|         100.0|         N|               N|      null|         AAXN|         N|\n",
            "|            Y|    AB|AllianceBernstein...|               N|               |  N|         100.0|         N|            null|        AB|           AB|         N|\n",
            "|            Y|   ABB|ABB Ltd Common Stock|               N|               |  N|         100.0|         N|            null|       ABB|          ABB|         N|\n",
            "+-------------+------+--------------------+----------------+---------------+---+--------------+----------+----------------+----------+-------------+----------+\n",
            "only showing top 20 rows\n",
            "\n"
          ]
        }
      ],
      "source": [
        "#TODO: Write your code here\n",
        "metadata_df.show()"
      ]
    },
    {
      "cell_type": "code",
      "execution_count": null,
      "metadata": {
        "colab": {
          "base_uri": "https://localhost:8080/"
        },
        "id": "eTFRDsUrBNhd",
        "outputId": "2fdd7184-5730-4bd2-a5ae-96e07c98b426"
      },
      "outputs": [
        {
          "data": {
            "text/plain": [
              "['ARNCA']"
            ]
          },
          "execution_count": 40,
          "metadata": {},
          "output_type": "execute_result"
        }
      ],
      "source": [
        "list(set(df.select('stock').rdd.flatMap(lambda x: x).collect())-set(metadata_df.select('Symbol').rdd.flatMap(lambda x: x).collect()))"
      ]
    },
    {
      "cell_type": "code",
      "execution_count": null,
      "metadata": {
        "id": "nG0s36bDG_MS"
      },
      "outputs": [],
      "source": [
        "metadata_df.createOrReplaceTempView(\"metadata\")"
      ]
    },
    {
      "cell_type": "code",
      "execution_count": null,
      "metadata": {
        "colab": {
          "base_uri": "https://localhost:8080/"
        },
        "id": "unZgXJeDHD0J",
        "outputId": "72610997-d21b-4ed0-8527-3d8a3c72ffe7"
      },
      "outputs": [
        {
          "name": "stdout",
          "output_type": "stream",
          "text": [
            "+-------------+------+--------------------+----------------+---------------+---+--------------+----------+----------------+----------+-------------+----------+\n",
            "|Nasdaq Traded|Symbol|       Security Name|Listing Exchange|Market Category|ETF|Round Lot Size|Test Issue|Financial Status|CQS Symbol|NASDAQ Symbol|NextShares|\n",
            "+-------------+------+--------------------+----------------+---------------+---+--------------+----------+----------------+----------+-------------+----------+\n",
            "|            Y|  ARNA|Arena Pharmaceuti...|               Q|              Q|  N|         100.0|         N|               N|      null|         ARNA|         N|\n",
            "|            Y|  ARNC|Arconic Corporati...|               N|               |  N|         100.0|         N|            null|      ARNC|         ARNC|         N|\n",
            "+-------------+------+--------------------+----------------+---------------+---+--------------+----------+----------------+----------+-------------+----------+\n",
            "\n"
          ]
        }
      ],
      "source": [
        "spark.sql(\"\"\"select * from metadata where Symbol like 'ARN%'\"\"\").show()"
      ]
    },
    {
      "cell_type": "code",
      "execution_count": null,
      "metadata": {
        "id": "OeUGAkb1JzP0"
      },
      "outputs": [],
      "source": [
        "df=df.withColumn('stock', F.when(df['stock']=='ARNCA', 'ARNC').otherwise(df['stock']))"
      ]
    },
    {
      "cell_type": "markdown",
      "metadata": {
        "id": "0SV__qyJ9I9E"
      },
      "source": [
        "## Timeliness\n",
        "\n",
        "Timeliness is the degree to which data represent reality from the required point in time.\n",
        "\n",
        "Timeliness expects that the data within your dataset is sufficiently up to date. If you are trying to answer questions that relate to recent problems, having timely data is extremely important. For example, you cannot use current flight patterns to model how many aeroplanes will be required by a large aeronautics company within the next 5-10 years. \n",
        "\n",
        "Similarly, when answering questions that require real-time answers (e.g., predicting when a pipe will burst in a manufacturing plant), you have to be set up to receive real-time data from sensors and loggers. \n",
        "\n",
        "- **Measured by**: Time difference;\n",
        "- **Units**: Time;\n",
        "- **Related to**: Accuracy because it will decay as time progress. "
      ]
    },
    {
      "cell_type": "markdown",
      "metadata": {
        "id": "9RJbr53o9I9F"
      },
      "source": [
        "It is important to see the latest value for each of the stocks that we are looking at:"
      ]
    },
    {
      "cell_type": "code",
      "execution_count": null,
      "metadata": {
        "colab": {
          "base_uri": "https://localhost:8080/"
        },
        "id": "7j5JfDZH9I9G",
        "outputId": "48978b3f-0f98-4a5a-b984-25d649b4060c"
      },
      "outputs": [
        {
          "name": "stdout",
          "output_type": "stream",
          "text": [
            "+-----+----------+\n",
            "|stock| max(Date)|\n",
            "+-----+----------+\n",
            "|   AA|1962-12-31|\n",
            "|  XOM|1962-12-31|\n",
            "|  DIS|1962-12-31|\n",
            "|   PG|1962-12-31|\n",
            "|   GT|1962-12-31|\n",
            "|   MO|1962-12-31|\n",
            "|  IBM|1962-12-31|\n",
            "|  JNJ|1962-12-31|\n",
            "|  CVX|1962-12-31|\n",
            "|  DTE|1962-12-31|\n",
            "|   BA|1962-12-31|\n",
            "|   GE|1962-12-31|\n",
            "|  HPQ|1962-12-31|\n",
            "| ARNC|1962-12-31|\n",
            "|  CAT|1962-12-31|\n",
            "|   IP|1962-12-31|\n",
            "|   FL|1962-12-31|\n",
            "|   ED|1962-12-31|\n",
            "|  NAV|1962-11-30|\n",
            "|   KO|1962-12-31|\n",
            "+-----+----------+\n",
            "\n"
          ]
        }
      ],
      "source": [
        "df.groupBy('stock').agg(F.max('Date')).show()"
      ]
    },
    {
      "cell_type": "markdown",
      "metadata": {
        "id": "oDPFiSVd9I9J"
      },
      "source": [
        "Sometimes, some of these axes of data quality will be less important than others. \n",
        "This is one of those cases where it is less important to have timely data, since \n",
        "we are trying to create a training dataset for a stock market prediction algorithm. \n",
        "\n",
        "It is important to know the context in which you are doing your modelling. "
      ]
    },
    {
      "cell_type": "markdown",
      "metadata": {
        "id": "73yWJuOd9I9K"
      },
      "source": [
        "### Gaps in the dataset\n",
        "\n",
        "Let's see if we can find inconsistencies in the time series by having a look at the number of entries for each of the tickers.\n",
        " \n",
        "> ℹ️ **Instructions** ℹ️\n",
        ">\n",
        "> Uncomment and use the below code to determine which dates had entries that were not equal to 20. You may have to change the name of the dataframe to see the resultant output\n",
        ">\n",
        ">*You may use as many coding cells as necessary.*"
      ]
    },
    {
      "cell_type": "code",
      "execution_count": null,
      "metadata": {
        "colab": {
          "base_uri": "https://localhost:8080/"
        },
        "id": "FkuYDfl79I9L",
        "outputId": "a756645b-9e61-4746-8e25-75de8469fb15"
      },
      "outputs": [
        {
          "name": "stdout",
          "output_type": "stream",
          "text": [
            "+----------+-----+\n",
            "|      date|count|\n",
            "+----------+-----+\n",
            "|1962-12-19|   19|\n",
            "|1962-02-06|   23|\n",
            "|1962-03-20|   19|\n",
            "|1962-09-18|   21|\n",
            "|1962-09-10|   21|\n",
            "|1962-09-13|   21|\n",
            "|1962-03-19|   19|\n",
            "|1962-12-18|   19|\n",
            "|1962-07-25|   19|\n",
            "|1962-02-27|   23|\n",
            "|1962-02-15|   23|\n",
            "|1962-03-14|   19|\n",
            "|1962-02-16|   23|\n",
            "|1962-02-08|   23|\n",
            "|1962-06-07|   19|\n",
            "|1962-02-02|   23|\n",
            "|1962-09-20|   21|\n",
            "|1962-09-19|   21|\n",
            "|1962-02-13|   23|\n",
            "|1962-02-01|   23|\n",
            "|1962-09-07|   21|\n",
            "|1962-12-03|   19|\n",
            "|1962-06-12|   19|\n",
            "|1962-09-21|   21|\n",
            "|1962-02-28|   23|\n",
            "|1962-12-31|   19|\n",
            "|1962-02-23|   23|\n",
            "|1962-02-19|   23|\n",
            "|1962-02-07|   23|\n",
            "|1962-12-21|   19|\n",
            "|1962-09-06|   21|\n",
            "|1962-09-28|   21|\n",
            "|1962-09-14|   21|\n",
            "|1962-09-17|   21|\n",
            "|1962-02-12|   23|\n",
            "|1962-07-20|   19|\n",
            "|1962-02-09|   23|\n",
            "|1962-09-12|   21|\n",
            "|1962-02-14|   23|\n",
            "|1962-02-21|   23|\n",
            "|1962-09-26|   21|\n",
            "|1962-02-26|   23|\n",
            "|1962-03-22|   19|\n",
            "|1962-06-06|   19|\n",
            "|1962-09-04|   21|\n",
            "|1962-12-28|   19|\n",
            "|1962-09-05|   21|\n",
            "|1962-12-20|   19|\n",
            "|1962-09-25|   21|\n",
            "|1962-09-11|   21|\n",
            "|1962-09-27|   21|\n",
            "|1962-02-05|   23|\n",
            "|1962-09-24|   21|\n",
            "|1962-02-20|   23|\n",
            "|1962-07-27|   19|\n",
            "|1962-07-02|   19|\n",
            "|1962-03-26|   19|\n",
            "|1962-12-12|   18|\n",
            "|1962-12-07|   18|\n",
            "|1962-06-18|   19|\n",
            "|1962-06-15|   19|\n",
            "|1962-03-16|   19|\n",
            "|1962-03-13|   19|\n",
            "|1962-06-13|   19|\n",
            "|1962-06-29|   19|\n",
            "|1962-03-15|   19|\n",
            "|1962-07-24|   19|\n",
            "|1962-07-19|   19|\n",
            "|1962-03-05|   19|\n",
            "|1962-07-03|   19|\n",
            "|1962-03-01|   19|\n",
            "|1962-12-14|   18|\n",
            "|1962-06-27|   19|\n",
            "|1962-12-11|   18|\n",
            "|1962-07-10|   19|\n",
            "|1962-12-17|   18|\n",
            "|1962-06-20|   19|\n",
            "|1962-03-07|   19|\n",
            "|1962-07-13|   19|\n",
            "|1962-06-22|   19|\n",
            "|1962-07-16|   19|\n",
            "|1962-06-26|   19|\n",
            "|1962-07-23|   19|\n",
            "|1962-03-28|   19|\n",
            "|1962-07-17|   19|\n",
            "|1962-07-18|   19|\n",
            "|1962-06-04|   19|\n",
            "|1962-12-27|   19|\n",
            "|1962-07-31|   19|\n",
            "|1962-06-19|   19|\n",
            "|1962-07-26|   19|\n",
            "|1962-12-06|   18|\n",
            "|1962-03-30|   19|\n",
            "|1962-06-11|   19|\n",
            "|1962-06-14|   19|\n",
            "|1962-06-01|   19|\n",
            "|1962-06-05|   19|\n",
            "|1962-06-25|   19|\n",
            "|1962-03-06|   19|\n",
            "|1962-03-08|   19|\n",
            "|1962-03-21|   19|\n",
            "|1962-03-29|   19|\n",
            "|1962-03-23|   19|\n",
            "|1962-03-12|   19|\n",
            "|1962-07-06|   19|\n",
            "|1962-12-26|   19|\n",
            "|1962-12-24|   19|\n",
            "|1962-07-09|   19|\n",
            "|1962-12-04|   18|\n",
            "|1962-06-28|   19|\n",
            "|1962-07-05|   19|\n",
            "|1962-07-11|   19|\n",
            "|1962-12-13|   18|\n",
            "|1962-07-12|   19|\n",
            "|1962-03-27|   19|\n",
            "|1962-12-10|   18|\n",
            "|1962-03-02|   19|\n",
            "|1962-06-21|   19|\n",
            "|1962-03-09|   19|\n",
            "|1962-07-30|   19|\n",
            "|1962-12-05|   18|\n",
            "|1962-06-08|   19|\n",
            "+----------+-----+\n",
            "\n"
          ]
        }
      ],
      "source": [
        "df.orderBy('date').groupby('date').count().where(F.col('count') != 20).show(400)"
      ]
    },
    {
      "cell_type": "markdown",
      "metadata": {
        "id": "Ys0aF-5r9I9L"
      },
      "source": [
        "> ℹ️ **Instructions** ℹ️\n",
        ">\n",
        "> From the above result, investigate the number of times a stock appears for the given month. You can infer the months by using the output of the previous cell.\n",
        ">\n",
        ">*You may use as many coding cells as necessary.*"
      ]
    },
    {
      "cell_type": "code",
      "execution_count": null,
      "metadata": {
        "colab": {
          "base_uri": "https://localhost:8080/"
        },
        "id": "cZ_xpjEp9I9M",
        "outputId": "8743bc3f-ec03-4e50-bd04-ddce2e1456c3"
      },
      "outputs": [
        {
          "name": "stdout",
          "output_type": "stream",
          "text": [
            "+-----------+-----+-----+\n",
            "|month(date)|stock|count|\n",
            "+-----------+-----+-----+\n",
            "|          1|   GE|   22|\n",
            "|          1|   ED|   22|\n",
            "|          1|  XOM|   22|\n",
            "|          1|  DTE|   22|\n",
            "|          1|   KO|   22|\n",
            "|          1|   BA|   22|\n",
            "|          1| ARNC|   22|\n",
            "|          1|  JNJ|   22|\n",
            "|          1|  CAT|   22|\n",
            "|          1|   MO|   22|\n",
            "|          1|   GT|   22|\n",
            "|          1|   FL|   22|\n",
            "|          1|  NAV|   22|\n",
            "|          1|  IBM|   22|\n",
            "|          1|  CVX|   22|\n",
            "|          1|   PG|   22|\n",
            "|          1|   IP|   22|\n",
            "|          1|  DIS|   22|\n",
            "|          1|  HPQ|   22|\n",
            "|          1|   AA|   22|\n",
            "|          2|   GE|   19|\n",
            "|          2|  DTE|   19|\n",
            "|          2|   BA|   19|\n",
            "|          2|   GT|   19|\n",
            "|          2|   IP|   19|\n",
            "|          2|   FL|   19|\n",
            "|          2|  CVX|   19|\n",
            "|          2|  HPQ|   76|\n",
            "|          2|  XOM|   19|\n",
            "|          2| ARNC|   19|\n",
            "|          2|   ED|   19|\n",
            "|          2|   KO|   19|\n",
            "|          2|  NAV|   19|\n",
            "|          2|  DIS|   19|\n",
            "|          2|   PG|   19|\n",
            "|          2|  CAT|   19|\n",
            "|          2|  JNJ|   19|\n",
            "|          2|   MO|   19|\n",
            "|          2|   AA|   19|\n",
            "|          2|  IBM|   19|\n",
            "|          3|  DIS|   22|\n",
            "|          3|   ED|   22|\n",
            "|          3|   BA|   22|\n",
            "|          3|  DTE|   22|\n",
            "|          3|   KO|   22|\n",
            "|          3|  IBM|   22|\n",
            "|          3|   PG|   22|\n",
            "|          3|   GE|   22|\n",
            "|          3|  CVX|   22|\n",
            "|          3|  XOM|   22|\n",
            "|          3|   AA|   22|\n",
            "|          3|  NAV|   22|\n",
            "|          3|   MO|   22|\n",
            "|          3|   IP|   22|\n",
            "|          3|   FL|   22|\n",
            "|          3|   GT|   22|\n",
            "|          3| ARNC|   22|\n",
            "|          3|  HPQ|   22|\n",
            "|          3|  JNJ|   22|\n",
            "|          4|  JNJ|   20|\n",
            "|          4|  CVX|   20|\n",
            "|          4|   IP|   20|\n",
            "|          4|   GT|   20|\n",
            "|          4|  IBM|   20|\n",
            "|          4|   ED|   20|\n",
            "|          4|  HPQ|   20|\n",
            "|          4|  XOM|   20|\n",
            "|          4|   MO|   20|\n",
            "|          4|   FL|   20|\n",
            "|          4|  NAV|   20|\n",
            "|          4|   GE|   20|\n",
            "|          4| ARNC|   20|\n",
            "|          4|  DIS|   20|\n",
            "|          4|   KO|   20|\n",
            "|          4|   BA|   20|\n",
            "|          4|  DTE|   20|\n",
            "|          4|   PG|   20|\n",
            "|          4|   AA|   20|\n",
            "|          4|  CAT|   20|\n",
            "|          5|  CVX|   22|\n",
            "|          5|  IBM|   22|\n",
            "|          5|   IP|   22|\n",
            "|          5|  CAT|   22|\n",
            "|          5|   ED|   22|\n",
            "|          5|   AA|   22|\n",
            "|          5|  NAV|   22|\n",
            "|          5|   FL|   22|\n",
            "|          5| ARNC|   22|\n",
            "|          5|  HPQ|   22|\n",
            "|          5|   MO|   22|\n",
            "|          5|  DIS|   22|\n",
            "|          5|   GT|   22|\n",
            "|          5|   KO|   22|\n",
            "|          5|  XOM|   22|\n",
            "|          5|   GE|   22|\n",
            "|          5|   PG|   22|\n",
            "|          5|  JNJ|   22|\n",
            "|          5|  DTE|   22|\n",
            "|          5|   BA|   22|\n",
            "|          6|  CAT|   21|\n",
            "|          6| ARNC|   21|\n",
            "|          6|   MO|   21|\n",
            "|          6|   AA|   21|\n",
            "|          6|  IBM|   21|\n",
            "|          6|  HPQ|   21|\n",
            "|          6|  DTE|   21|\n",
            "|          6|   PG|   21|\n",
            "|          6|   ED|   21|\n",
            "|          6|  DIS|   21|\n",
            "|          6|  CVX|   21|\n",
            "|          6|   BA|   21|\n",
            "|          6|  XOM|   21|\n",
            "|          6|   IP|   21|\n",
            "|          6|  NAV|   21|\n",
            "|          6|   GT|   21|\n",
            "|          6|  JNJ|   21|\n",
            "|          6|   KO|   21|\n",
            "|          6|   GE|   21|\n",
            "|          7|   ED|   21|\n",
            "|          7|   PG|   21|\n",
            "|          7|   KO|   21|\n",
            "|          7|   IP|   21|\n",
            "|          7|   GT|   21|\n",
            "|          7|   FL|   21|\n",
            "|          7|   MO|   21|\n",
            "|          7|  DIS|   21|\n",
            "|          7|  XOM|   21|\n",
            "|          7| ARNC|   21|\n",
            "|          7|  DTE|   21|\n",
            "|          7|  NAV|   21|\n",
            "|          7|  CAT|   21|\n",
            "|          7|   BA|   21|\n",
            "|          7|  IBM|   21|\n",
            "|          7|   GE|   21|\n",
            "|          7|   AA|   21|\n",
            "|          7|  CVX|   21|\n",
            "|          7|  HPQ|   21|\n",
            "|          8|  XOM|   23|\n",
            "|          8|  JNJ|   23|\n",
            "|          8|   GT|   23|\n",
            "|          8|  HPQ|   23|\n",
            "|          8|  NAV|   23|\n",
            "|          8|  DIS|   23|\n",
            "|          8|   AA|   23|\n",
            "|          8|  CVX|   23|\n",
            "|          8|   MO|   23|\n",
            "|          8|  DTE|   23|\n",
            "|          8|   PG|   23|\n",
            "|          8|   GE|   23|\n",
            "|          8|  IBM|   23|\n",
            "|          8|  CAT|   23|\n",
            "|          8|   FL|   23|\n",
            "|          8|   BA|   23|\n",
            "|          8|   KO|   23|\n",
            "|          8|   IP|   23|\n",
            "|          8|   ED|   23|\n",
            "|          8| ARNC|   23|\n",
            "|          9|   KO|   19|\n",
            "|          9|  XOM|   19|\n",
            "|          9|   PG|   19|\n",
            "|          9|  IBM|   19|\n",
            "|          9|  JNJ|   19|\n",
            "|          9|   MO|   19|\n",
            "|          9|   GE|   19|\n",
            "|          9|  DIS|   19|\n",
            "|          9|  CAT|   19|\n",
            "|          9|   ED|   38|\n",
            "|          9|   AA|   19|\n",
            "|          9|   BA|   19|\n",
            "|          9|  HPQ|   19|\n",
            "|          9|   IP|   19|\n",
            "|          9|  NAV|   19|\n",
            "|          9| ARNC|   19|\n",
            "|          9|  DTE|   19|\n",
            "|          9|  CVX|   19|\n",
            "|          9|   GT|   19|\n",
            "|          9|   FL|   19|\n",
            "|         10|   AA|   23|\n",
            "|         10|   GT|   23|\n",
            "|         10|  HPQ|   23|\n",
            "|         10|   IP|   23|\n",
            "|         10|   KO|   23|\n",
            "|         10|  CVX|   23|\n",
            "|         10|   FL|   23|\n",
            "|         10|  DIS|   23|\n",
            "|         10| ARNC|   23|\n",
            "|         10|   ED|   23|\n",
            "|         10|  DTE|   23|\n",
            "|         10|   BA|   23|\n",
            "|         10|  CAT|   23|\n",
            "|         10|  IBM|   23|\n",
            "|         10|   MO|   23|\n",
            "|         10|   PG|   23|\n",
            "|         10|  XOM|   23|\n",
            "|         10|  JNJ|   23|\n",
            "|         10|  NAV|   23|\n",
            "|         10|   GE|   23|\n",
            "|         11|   FL|   20|\n",
            "|         11|  IBM|   20|\n",
            "|         11|   AA|   20|\n",
            "|         11|  JNJ|   20|\n",
            "|         11|  CAT|   20|\n",
            "|         11|   BA|   20|\n",
            "|         11|  HPQ|   20|\n",
            "|         11|  DTE|   20|\n",
            "|         11|  CVX|   20|\n",
            "|         11|   GT|   20|\n",
            "|         11|   ED|   20|\n",
            "|         11| ARNC|   20|\n",
            "|         11|   GE|   20|\n",
            "|         11|  NAV|   20|\n",
            "|         11|   KO|   20|\n",
            "|         11|  XOM|   20|\n",
            "|         11|   PG|   20|\n",
            "|         11|   MO|   20|\n",
            "|         11|  DIS|   20|\n",
            "|         11|   IP|   20|\n",
            "|         12|   FL|   20|\n",
            "|         12|   GT|   20|\n",
            "|         12|  CVX|   20|\n",
            "|         12|   ED|   20|\n",
            "|         12|  IBM|   20|\n",
            "|         12|   KO|   20|\n",
            "|         12|  CAT|   20|\n",
            "|         12|   PG|   20|\n",
            "|         12|   GE|   20|\n",
            "|         12|  JNJ|   20|\n",
            "|         12|  DIS|   20|\n",
            "|         12|  XOM|   20|\n",
            "|         12|   MO|   20|\n",
            "|         12|   BA|   10|\n",
            "|         12|   AA|   20|\n",
            "|         12|  DTE|   20|\n",
            "|         12|  HPQ|   20|\n",
            "|         12| ARNC|   20|\n",
            "|         12|   IP|   20|\n",
            "+-----------+-----+-----+\n",
            "\n"
          ]
        }
      ],
      "source": [
        "#TODO: Write your code here\n",
        "df.groupby(F.month('date'),'stock').count().orderBy('month(date)').show(400)"
      ]
    },
    {
      "cell_type": "markdown",
      "metadata": {
        "id": "H-nAE5X19I9N"
      },
      "source": [
        "## Uniqueness\n",
        "\n",
        "Uniqueness requires that nothing will be recorded more than once based upon how that thing is identified. It is the inverse of an assessment of the level of duplication.\n",
        "\n",
        "Each entry within the dataset should only relate to a single event that has occurred and thus should not be duplicated. This is largely mediated by having the appropriate primary key, which means sticking to the requirements of a good primary key. All fields in the tables should be non-transitively dependent on the primary key.\n",
        "\n",
        "As such, deduplication of the dataset may be required. \n",
        "\n",
        "- **Measured by**: Analysis of the number of things assessed in the “real world” compared to the number of records of things in the dataset. This requires a reference dataset which is the ground truth;\n",
        "- **Units**: Percentage;\n",
        "- **Related to**: Consistency."
      ]
    },
    {
      "cell_type": "markdown",
      "metadata": {
        "id": "0UWGsTND9I9N"
      },
      "source": [
        "### Duplication Test\n",
        "For time-series data, it is important to check for duplications, as we typically expect all values to be unique within the dataset.\n",
        "\n",
        "The first thing to check will be if the primary key values within the dataset are unique - in our case, that will be a combination of the stock name and the date.\n",
        "\n",
        "Secondly, we want to check if the entries are all unique, which is done by checking for duplicates across that whole dataset."
      ]
    },
    {
      "cell_type": "markdown",
      "metadata": {
        "id": "KJxn1R5T9I9O"
      },
      "source": [
        "> ℹ️ **Instructions** ℹ️\n",
        ">\n",
        "> Write code to determine if there are any duplicates within the data, and then proceed to correct this by dropping them from the dataframe.\n",
        ">\n",
        ">*You may use as many coding cells as necessary.*"
      ]
    },
    {
      "cell_type": "code",
      "execution_count": null,
      "metadata": {
        "colab": {
          "background_save": true
        },
        "id": "66XmVpFD9I9P",
        "outputId": "cd5fd3b0-0f45-40d2-e3a9-e180bb406a63"
      },
      "outputs": [
        {
          "name": "stdout",
          "output_type": "stream",
          "text": [
            "+----------+-----+-----+\n",
            "|      date|stock|count|\n",
            "+----------+-----+-----+\n",
            "|1962-02-09|  HPQ|    4|\n",
            "|1962-02-08|  HPQ|    4|\n",
            "|1962-02-27|  HPQ|    4|\n",
            "|1962-02-23|  HPQ|    4|\n",
            "|1962-02-02|  HPQ|    4|\n",
            "|1962-02-16|  HPQ|    4|\n",
            "|1962-02-01|  HPQ|    4|\n",
            "|1962-02-15|  HPQ|    4|\n",
            "|1962-02-13|  HPQ|    4|\n",
            "|1962-02-05|  HPQ|    4|\n",
            "|1962-02-07|  HPQ|    4|\n",
            "|1962-02-06|  HPQ|    4|\n",
            "|1962-02-26|  HPQ|    4|\n",
            "|1962-02-20|  HPQ|    4|\n",
            "|1962-02-28|  HPQ|    4|\n",
            "|1962-02-12|  HPQ|    4|\n",
            "|1962-02-14|  HPQ|    4|\n",
            "|1962-02-19|  HPQ|    4|\n",
            "|1962-02-21|  HPQ|    4|\n",
            "|1962-09-27|   ED|    2|\n",
            "+----------+-----+-----+\n",
            "only showing top 20 rows\n",
            "\n"
          ]
        }
      ],
      "source": [
        "#TODO: Write your code here\n",
        "df.groupby(['date', 'stock']).count().where('count > 1').sort('count', ascending=False).show()"
      ]
    },
    {
      "cell_type": "code",
      "execution_count": null,
      "metadata": {
        "id": "Wl3ye4ONL9kc"
      },
      "outputs": [],
      "source": [
        "df=df.dropDuplicates(['date', 'stock'])"
      ]
    },
    {
      "cell_type": "code",
      "source": [
        "df.groupby(['date', 'stock']).count().where('count > 1').sort('count', ascending=False).show()"
      ],
      "metadata": {
        "colab": {
          "base_uri": "https://localhost:8080/"
        },
        "id": "JZE3d7RIM6Xw",
        "outputId": "66a55a89-0bba-442d-d03c-082ce76f7fda"
      },
      "execution_count": null,
      "outputs": [
        {
          "output_type": "stream",
          "name": "stdout",
          "text": [
            "+----+-----+-----+\n",
            "|date|stock|count|\n",
            "+----+-----+-----+\n",
            "+----+-----+-----+\n",
            "\n"
          ]
        }
      ]
    },
    {
      "cell_type": "markdown",
      "metadata": {
        "id": "ypyxG0Ea9I9P"
      },
      "source": [
        "## Validity\n",
        "Data is valid if it conforms to the syntax (format, type, range) of its definition.\n",
        "\n",
        "Certain values within a field may have specific criteria required to make it valid, e.g., numerical columns cannot contain alphabetical characters, which can occur due to scientific notation.\n",
        "\n",
        "This can be more difficult to determine in stings, in which case you may have to check using regex. \n",
        "\n",
        "- **Measured by**: Comparison between the data and metadata or documentation for the data item;\n",
        "- **Units**: Percentage of data items deemed Valid or Invalid;\n",
        "- **Related to**: Accuracy, Completeness, Consistency, and Uniqueness."
      ]
    },
    {
      "cell_type": "markdown",
      "metadata": {
        "id": "VX9Qk4uf9I9Q"
      },
      "source": [
        "We need to first define what we expect from our dataset:\n",
        "\n",
        "- stock: string (nullable = true) => Should be contained in the list of expected tickers\n",
        "- date: date (nullable = true) => Should conform to date format, and be in the past\n",
        "- open: double (nullable = true) => Should be positive or 0\n",
        "- high: double (nullable = true) => Should be positive or 0\n",
        "- low: double (nullable = true) => Should be positive or 0 (should be < high)\n",
        "- close: double (nullable = true) => Should be positive or 0 (should be <= high )\n",
        "- adj_close: double (nullable = true) => Should be positive or 0\n",
        "- volume: integer (nullable = true) => Should be positive or 0\n",
        "- high_avg: double (nullable = true) => Derived (not needed to test)\n",
        "- high_imp: double (nullable = true) => Derived (not needed to test)\n",
        "- day_of_week: string (nullable = true) => Derived (not needed to test)\n",
        "\n",
        "*Is there any other logic that we can incorporate?*"
      ]
    },
    {
      "cell_type": "markdown",
      "metadata": {
        "id": "SVgOu_hz9I9R"
      },
      "source": [
        "> ℹ️ **Instructions** ℹ️\n",
        ">\n",
        "> Use the metadata to check if all the stocks in your current dataframe are valid. In other words, make sure you have no foreign/unknown tickers in your dataframe.\n",
        ">\n",
        ">*You may use as many coding cells as necessary.*\n"
      ]
    },
    {
      "cell_type": "code",
      "execution_count": null,
      "metadata": {
        "id": "8weGEa2z9I9S",
        "colab": {
          "base_uri": "https://localhost:8080/"
        },
        "outputId": "c4e78424-6cd8-4c6a-b3d4-306c55a9ac4e"
      },
      "outputs": [
        {
          "output_type": "execute_result",
          "data": {
            "text/plain": [
              "[]"
            ]
          },
          "metadata": {},
          "execution_count": 57
        }
      ],
      "source": [
        "#TODO: Write your code here\n",
        "list(set(df.select('stock').rdd.flatMap(lambda x: x).collect())-set(metadata_df.select('Symbol').rdd.flatMap(lambda x: x).collect()))"
      ]
    },
    {
      "cell_type": "markdown",
      "metadata": {
        "id": "TWnPKZ0I9I9S"
      },
      "source": [
        "> ℹ️ **Instructions** ℹ️\n",
        ">\n",
        ">\n",
        ">Check if the date column contains only valid dates and all dates are in the past.\n",
        ">\n",
        ">*Valid dates should already be checked in the data reading step.*"
      ]
    },
    {
      "cell_type": "code",
      "execution_count": null,
      "metadata": {
        "id": "NZ4kjwvI9I9T",
        "colab": {
          "base_uri": "https://localhost:8080/"
        },
        "outputId": "92aa6f81-119c-4806-f737-50d12285667c"
      },
      "outputs": [
        {
          "output_type": "stream",
          "name": "stdout",
          "text": [
            "+----------+----------+\n",
            "| min(date)| max(date)|\n",
            "+----------+----------+\n",
            "|1962-01-02|1962-12-31|\n",
            "+----------+----------+\n",
            "\n"
          ]
        }
      ],
      "source": [
        "#TODO: Write your code here\n",
        "df.agg(F.min(\"date\"), F.max(\"date\")).show()"
      ]
    },
    {
      "cell_type": "code",
      "source": [
        "#To check that all dates are in the past\n",
        "df.where((df.date) > dt.datetime.now()).count()"
      ],
      "metadata": {
        "colab": {
          "base_uri": "https://localhost:8080/"
        },
        "id": "ZkXqpItbR5jX",
        "outputId": "9f543ecc-5a3b-49b4-aed0-a79ce4b4e39b"
      },
      "execution_count": null,
      "outputs": [
        {
          "output_type": "execute_result",
          "data": {
            "text/plain": [
              "0"
            ]
          },
          "metadata": {},
          "execution_count": 66
        }
      ]
    },
    {
      "cell_type": "code",
      "source": [
        "#To check that date has no null values\n",
        "df.where((df.date).isNull()).count()"
      ],
      "metadata": {
        "colab": {
          "base_uri": "https://localhost:8080/"
        },
        "id": "Y3D9GejwTMNb",
        "outputId": "ebaf7e40-1dca-4428-b958-52dbee8ce2a0"
      },
      "execution_count": null,
      "outputs": [
        {
          "output_type": "execute_result",
          "data": {
            "text/plain": [
              "0"
            ]
          },
          "metadata": {},
          "execution_count": 67
        }
      ]
    },
    {
      "cell_type": "markdown",
      "metadata": {
        "id": "86qQ1Sci9I9U"
      },
      "source": [
        "> ℹ️ **Instructions** ℹ️\n",
        ">\n",
        ">Check that all of numerical columns are positive."
      ]
    },
    {
      "cell_type": "code",
      "execution_count": null,
      "metadata": {
        "id": "PyMjRkCo9I9V",
        "colab": {
          "base_uri": "https://localhost:8080/"
        },
        "outputId": "e61b1333-3118-44db-85f5-5dba3f269385"
      },
      "outputs": [
        {
          "output_type": "stream",
          "name": "stdout",
          "text": [
            "There are 0 negative values in open column\n",
            "There are 0 negative values in high column\n",
            "There are 0 negative values in low column\n",
            "There are 0 negative values in close column\n",
            "There are 0 negative values in adj_close column\n",
            "There are 0 negative values in volume column\n"
          ]
        }
      ],
      "source": [
        "#TODO: Write your code here\n",
        "for col in num_cols:\n",
        "  negative_num = df.where(df[col] < 0).count()\n",
        "  print(f'There are {negative_num} negative values in {col} column')"
      ]
    },
    {
      "cell_type": "markdown",
      "metadata": {
        "id": "ayanFgF59I9V"
      },
      "source": [
        "### Save Updates\n",
        "\n",
        "With our initial work of checking the various dimensions of the data quality completed, we can now save these results to a CSV file.  "
      ]
    },
    {
      "cell_type": "code",
      "execution_count": null,
      "metadata": {
        "id": "tRdPH5TL9I9W"
      },
      "outputs": [],
      "source": [
        "pd_df = df.toPandas()"
      ]
    },
    {
      "cell_type": "code",
      "execution_count": null,
      "metadata": {
        "id": "Gpk07rSy9I9X",
        "colab": {
          "base_uri": "https://localhost:8080/",
          "height": 329
        },
        "outputId": "0fb18a87-5b15-495d-b660-87c6b16447c9"
      },
      "outputs": [
        {
          "output_type": "error",
          "ename": "FileNotFoundError",
          "evalue": "ignored",
          "traceback": [
            "\u001b[0;31m---------------------------------------------------------------------------\u001b[0m",
            "\u001b[0;31mFileNotFoundError\u001b[0m                         Traceback (most recent call last)",
            "\u001b[0;32m<ipython-input-84-00903410b3a1>\u001b[0m in \u001b[0;36m<module>\u001b[0;34m()\u001b[0m\n\u001b[0;32m----> 1\u001b[0;31m \u001b[0mpd_df\u001b[0m\u001b[0;34m.\u001b[0m\u001b[0mto_csv\u001b[0m\u001b[0;34m(\u001b[0m\u001b[0;34m'/content/drive/MyDrive/data/Part_II/Daniel_Opanubi_data_profiling.csv'\u001b[0m\u001b[0;34m)\u001b[0m\u001b[0;34m\u001b[0m\u001b[0;34m\u001b[0m\u001b[0m\n\u001b[0m",
            "\u001b[0;32m/usr/local/lib/python3.7/dist-packages/pandas/core/generic.py\u001b[0m in \u001b[0;36mto_csv\u001b[0;34m(self, path_or_buf, sep, na_rep, float_format, columns, header, index, index_label, mode, encoding, compression, quoting, quotechar, line_terminator, chunksize, date_format, doublequote, escapechar, decimal, errors, storage_options)\u001b[0m\n\u001b[1;32m   3480\u001b[0m             \u001b[0mdoublequote\u001b[0m\u001b[0;34m=\u001b[0m\u001b[0mdoublequote\u001b[0m\u001b[0;34m,\u001b[0m\u001b[0;34m\u001b[0m\u001b[0;34m\u001b[0m\u001b[0m\n\u001b[1;32m   3481\u001b[0m             \u001b[0mescapechar\u001b[0m\u001b[0;34m=\u001b[0m\u001b[0mescapechar\u001b[0m\u001b[0;34m,\u001b[0m\u001b[0;34m\u001b[0m\u001b[0;34m\u001b[0m\u001b[0m\n\u001b[0;32m-> 3482\u001b[0;31m             \u001b[0mstorage_options\u001b[0m\u001b[0;34m=\u001b[0m\u001b[0mstorage_options\u001b[0m\u001b[0;34m,\u001b[0m\u001b[0;34m\u001b[0m\u001b[0;34m\u001b[0m\u001b[0m\n\u001b[0m\u001b[1;32m   3483\u001b[0m         )\n\u001b[1;32m   3484\u001b[0m \u001b[0;34m\u001b[0m\u001b[0m\n",
            "\u001b[0;32m/usr/local/lib/python3.7/dist-packages/pandas/io/formats/format.py\u001b[0m in \u001b[0;36mto_csv\u001b[0;34m(self, path_or_buf, encoding, sep, columns, index_label, mode, compression, quoting, quotechar, line_terminator, chunksize, date_format, doublequote, escapechar, errors, storage_options)\u001b[0m\n\u001b[1;32m   1103\u001b[0m             \u001b[0mformatter\u001b[0m\u001b[0;34m=\u001b[0m\u001b[0mself\u001b[0m\u001b[0;34m.\u001b[0m\u001b[0mfmt\u001b[0m\u001b[0;34m,\u001b[0m\u001b[0;34m\u001b[0m\u001b[0;34m\u001b[0m\u001b[0m\n\u001b[1;32m   1104\u001b[0m         )\n\u001b[0;32m-> 1105\u001b[0;31m         \u001b[0mcsv_formatter\u001b[0m\u001b[0;34m.\u001b[0m\u001b[0msave\u001b[0m\u001b[0;34m(\u001b[0m\u001b[0;34m)\u001b[0m\u001b[0;34m\u001b[0m\u001b[0;34m\u001b[0m\u001b[0m\n\u001b[0m\u001b[1;32m   1106\u001b[0m \u001b[0;34m\u001b[0m\u001b[0m\n\u001b[1;32m   1107\u001b[0m         \u001b[0;32mif\u001b[0m \u001b[0mcreated_buffer\u001b[0m\u001b[0;34m:\u001b[0m\u001b[0;34m\u001b[0m\u001b[0;34m\u001b[0m\u001b[0m\n",
            "\u001b[0;32m/usr/local/lib/python3.7/dist-packages/pandas/io/formats/csvs.py\u001b[0m in \u001b[0;36msave\u001b[0;34m(self)\u001b[0m\n\u001b[1;32m    241\u001b[0m             \u001b[0merrors\u001b[0m\u001b[0;34m=\u001b[0m\u001b[0mself\u001b[0m\u001b[0;34m.\u001b[0m\u001b[0merrors\u001b[0m\u001b[0;34m,\u001b[0m\u001b[0;34m\u001b[0m\u001b[0;34m\u001b[0m\u001b[0m\n\u001b[1;32m    242\u001b[0m             \u001b[0mcompression\u001b[0m\u001b[0;34m=\u001b[0m\u001b[0mself\u001b[0m\u001b[0;34m.\u001b[0m\u001b[0mcompression\u001b[0m\u001b[0;34m,\u001b[0m\u001b[0;34m\u001b[0m\u001b[0;34m\u001b[0m\u001b[0m\n\u001b[0;32m--> 243\u001b[0;31m             \u001b[0mstorage_options\u001b[0m\u001b[0;34m=\u001b[0m\u001b[0mself\u001b[0m\u001b[0;34m.\u001b[0m\u001b[0mstorage_options\u001b[0m\u001b[0;34m,\u001b[0m\u001b[0;34m\u001b[0m\u001b[0;34m\u001b[0m\u001b[0m\n\u001b[0m\u001b[1;32m    244\u001b[0m         ) as handles:\n\u001b[1;32m    245\u001b[0m \u001b[0;34m\u001b[0m\u001b[0m\n",
            "\u001b[0;32m/usr/local/lib/python3.7/dist-packages/pandas/io/common.py\u001b[0m in \u001b[0;36mget_handle\u001b[0;34m(path_or_buf, mode, encoding, compression, memory_map, is_text, errors, storage_options)\u001b[0m\n\u001b[1;32m    705\u001b[0m                 \u001b[0mencoding\u001b[0m\u001b[0;34m=\u001b[0m\u001b[0mioargs\u001b[0m\u001b[0;34m.\u001b[0m\u001b[0mencoding\u001b[0m\u001b[0;34m,\u001b[0m\u001b[0;34m\u001b[0m\u001b[0;34m\u001b[0m\u001b[0m\n\u001b[1;32m    706\u001b[0m                 \u001b[0merrors\u001b[0m\u001b[0;34m=\u001b[0m\u001b[0merrors\u001b[0m\u001b[0;34m,\u001b[0m\u001b[0;34m\u001b[0m\u001b[0;34m\u001b[0m\u001b[0m\n\u001b[0;32m--> 707\u001b[0;31m                 \u001b[0mnewline\u001b[0m\u001b[0;34m=\u001b[0m\u001b[0;34m\"\"\u001b[0m\u001b[0;34m,\u001b[0m\u001b[0;34m\u001b[0m\u001b[0;34m\u001b[0m\u001b[0m\n\u001b[0m\u001b[1;32m    708\u001b[0m             )\n\u001b[1;32m    709\u001b[0m         \u001b[0;32melse\u001b[0m\u001b[0;34m:\u001b[0m\u001b[0;34m\u001b[0m\u001b[0;34m\u001b[0m\u001b[0m\n",
            "\u001b[0;31mFileNotFoundError\u001b[0m: [Errno 2] No such file or directory: '/content/drive/MyDrive/data/Part_II/Daniel_Opanubi_data_profiling.csv'"
          ]
        }
      ],
      "source": [
        "pd_df.to_csv('/content/drive/MyDrive/data/Part_II/Daniel_Opanubi_data_profiling.csv')"
      ]
    }
  ],
  "metadata": {
    "colab": {
      "collapsed_sections": [],
      "name": "Data_profiling_student_version.ipynb",
      "provenance": []
    },
    "interpreter": {
      "hash": "24a0a2ddc4dffcb168e507551dd24967ddc40ea2df7a72a200a74e0ae6d88beb"
    },
    "kernelspec": {
      "display_name": "Python 3",
      "language": "python",
      "name": "python3"
    },
    "language_info": {
      "codemirror_mode": {
        "name": "ipython",
        "version": 3
      },
      "file_extension": ".py",
      "mimetype": "text/x-python",
      "name": "python",
      "nbconvert_exporter": "python",
      "pygments_lexer": "ipython3",
      "version": "3.7.6"
    }
  },
  "nbformat": 4,
  "nbformat_minor": 0
}