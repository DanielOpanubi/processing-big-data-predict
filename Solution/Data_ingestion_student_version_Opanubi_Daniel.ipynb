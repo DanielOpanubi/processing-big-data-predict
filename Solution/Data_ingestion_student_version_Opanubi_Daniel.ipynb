{
  "cells": [
    {
      "cell_type": "markdown",
      "metadata": {
        "id": "Pg03Wu7rkRiX"
      },
      "source": [
        "# Processing Big Data - Data Ingestion\n",
        "© Explore Data Science Academy\n",
        "\n",
        "## Honour Code\n",
        "I {**YOUR NAME**, **YOUR SURNAME**}, confirm - by submitting this document - that the solutions in this notebook are a result of my own work and that I abide by the [EDSA honour code](https://drive.google.com/file/d/1QDCjGZJ8-FmJE3bZdIQNwnJyQKPhHZBn/view?usp=sharing).\n",
        "    Non-compliance with the honour code constitutes a material breach of contract.\n",
        "\n",
        "\n",
        "\n",
        "## Context \n",
        "\n",
        "To work constructively with any dataset, one needs to create an ingestion profile to make sure that the data at the source can be readily consumed. For this section of the predict, as the Data Engineer in the team, you will be required to design and implement the ingestion process. For the purposes of the project the AWS cloud storage service, namely, the S3 bucket service will act as your data source. All the data required can be found [here](https://processing-big-data-predict-stocks-data.s3.eu-west-1.amazonaws.com/stocks.zip).\n",
        "\n",
        "<div align=\"center\" style=\"width: 600px; font-size: 80%; text-align: center; margin: 0 auto\">\n",
        "<img src=\"https://raw.githubusercontent.com/Explore-AI/Pictures/master/data_engineering/transform/predict/DataIngestion.jpg\"\n",
        "     alt=\"Data Ingestion\"\n",
        "     style=\"float: center; padding-bottom=0.5em\"\n",
        "     width=40%/>\n",
        "     <p><em>Figure 1. Data Ingestion</em></p>\n",
        "</div>\n",
        "\n",
        "Your manager, Gnissecorp Atadgib, knowing very well that you've recently completed your Data Engineering qualification, asks you to make use of Apache Spark for the ingestion as well as the rest of the project. His rationale being, that stock market data is generated every day and is quite time-sensitive and would require scalability when deploying to a production environment. \n",
        "\n",
        "## Dataset - US Nasdaq\n",
        "\n",
        "\n",
        "\n",
        "\n",
        "<div align=\"center\" style=\"width: 600px; font-size: 80%; text-align: center; margin: 0 auto\">\n",
        "<img src=\"https://raw.githubusercontent.com/Explore-AI/Pictures/master/data_engineering/transform/predict/Nasdaq.png\"\n",
        "     alt=\"Nasdaq\"\n",
        "     style=\"float: center; padding-bottom=0.5em\"\n",
        "     width=50%/>\n",
        "     <p><em>Figure 2. Nasdaq</em></p>\n",
        "</div>\n",
        "\n",
        "The data that you will be working with is a historical snapshot of market data taken from the Nasdaq electronic market. This dataset contains historical daily prices for all tickers currently trading on Nasdaq. The up-to-date list can be found on their [website](https://www.nasdaq.com/)\n",
        "\n",
        "\n",
        "The provided data contains price data dating back from 02 January 1962 up until 01 April 2020. The data found in the S3 bucket has been stored in the following structure:\n",
        "\n",
        "```\n",
        "     stocks/<Year>/<Month>/<Day>/stocks.csv\n",
        "```\n",
        "Each CSV file for every trading day contains the following details:\n",
        "- **Date** - specifies trading date\n",
        "- **Open** - opening price\n",
        "- **High** - maximum price during the day\n",
        "- **Low** - minimum price during the day\n",
        "- **Close** - close price adjusted for splits\n",
        "- **Adj Close** - close price adjusted for both dividends and splits\n",
        "- **Volume** - the number of shares that changed hands during a given day"
      ]
    },
    {
      "cell_type": "markdown",
      "metadata": {
        "id": "isnaNw7vkRi8"
      },
      "source": [
        "## Basic initialisation\n",
        "To get you started, let's import some basic Python libraries as well as Spark modules and functions."
      ]
    },
    {
      "cell_type": "code",
      "execution_count": null,
      "metadata": {
        "id": "FvFpT4LjkRi-"
      },
      "outputs": [],
      "source": [
        "import pandas as pd\n",
        "import numpy as np\n",
        "import matplotlib.pyplot as plt\n",
        "\n",
        "from pyspark import SparkContext\n",
        "from pyspark.sql import SparkSession\n",
        "from pyspark.sql import functions as F\n",
        "from pyspark.sql.types import *"
      ]
    },
    {
      "cell_type": "markdown",
      "metadata": {
        "id": "3lhVlTOfkRjC"
      },
      "source": [
        "Remember that we need a `SparkContext` and `SparkSession` to interface with Spark.\n",
        "We will mostly be using the `SparkContext` to interact with RDDs and the `SparkSession` to interface with Python objects.\n",
        "\n",
        "> ℹ️ **Instructions** ℹ️\n",
        ">\n",
        ">Initialise a new **Spark Context** and **Session** that you will use to interface with Spark."
      ]
    },
    {
      "cell_type": "code",
      "execution_count": null,
      "metadata": {
        "id": "fzuzEPTWkRjD"
      },
      "outputs": [],
      "source": [
        "#TODO: Write your code here\n",
        "sc = SparkContext()\n",
        "spark = SparkSession(sc)"
      ]
    },
    {
      "cell_type": "markdown",
      "metadata": {
        "id": "TEqj8b6TkRjE"
      },
      "source": [
        "## Investigate dataset schema\n",
        "At this point, it is enough to read in a single file to ascertain the data structure. You will be required to use the information obtained from the small subset to create a data schema. This data schema will be used when reading the entire dataset using Spark.\n",
        "\n",
        "> ℹ️ **Instructions** ℹ️\n",
        ">\n",
        ">Make use of Pandas to read in a single file and investigate the plausible data types to be used when creating a Spark data schema. \n",
        ">\n",
        ">*You may use as many coding cells as necessary.*"
      ]
    },
    {
      "cell_type": "code",
      "execution_count": null,
      "metadata": {
        "id": "ryv7YNb2kRjF"
      },
      "outputs": [],
      "source": [
        "test_df = spark.read.csv('/content/stocks/1962/01/03/stocks.csv', header=True)"
      ]
    },
    {
      "cell_type": "code",
      "execution_count": null,
      "metadata": {
        "colab": {
          "base_uri": "https://localhost:8080/"
        },
        "id": "1RT-YFiQkRjG",
        "outputId": "e8f0b75f-5235-4f10-c2f2-e4d66a023771"
      },
      "outputs": [
        {
          "output_type": "stream",
          "name": "stdout",
          "text": [
            "+----------+------------------+------------------+------------------+------------------+-------------------+--------+-----+\n",
            "|Date      |Open              |High              |Low               |Close             |Adj Close          |Volume  |stock|\n",
            "+----------+------------------+------------------+------------------+------------------+-------------------+--------+-----+\n",
            "|1962-01-03|6.5321550369262695|6.632279872894287 |6.5241451263427725|6.632279872894287 |1.5602117776870728 |74500.0 |AA   |\n",
            "|1962-01-03|6.125843524932861 |6.219546318054199 |6.11413049697876  |6.219546318054199 |1.436288595199585  |79600.0 |ARNC |\n",
            "|1962-01-03|0.8353909254074097|0.8518518805503845|0.8353909254074097|0.8395061492919922|0.1486625373363495 |710400.0|BA   |\n",
            "|1962-01-03|1.6041666269302368|1.6197916269302368|1.5885416269302368|1.6197916269302368|0.13829129934310913|156000.0|CAT  |\n",
            "|1962-01-03|0.0               |3.3035714626312256|3.2738094329833984|3.2886905670166016|0.05187510699033737|126400.0|CVX  |\n",
            "+----------+------------------+------------------+------------------+------------------+-------------------+--------+-----+\n",
            "only showing top 5 rows\n",
            "\n"
          ]
        },
        {
          "output_type": "execute_result",
          "data": {
            "text/plain": [
              "[('Date', 'string'),\n",
              " ('Open', 'string'),\n",
              " ('High', 'string'),\n",
              " ('Low', 'string'),\n",
              " ('Close', 'string'),\n",
              " ('Adj Close', 'string'),\n",
              " ('Volume', 'string'),\n",
              " ('stock', 'string')]"
            ]
          },
          "metadata": {},
          "execution_count": 18
        }
      ],
      "source": [
        "#TODO: Write your code here\n",
        "test_df.show(5, truncate=False)\n",
        "test_df.dtypes"
      ]
    },
    {
      "cell_type": "markdown",
      "metadata": {
        "id": "b9tQmLXTkRjK"
      },
      "source": [
        "## Read CSV files\n",
        "\n",
        "When working with big data, it is often not tenable to keep processing an entire data batch when you are in the process of development - this can be quite time-consuming. If the data is uniform, it is sufficient to work with a smaller subset to create basic functionality. Your manager has identified the year **1962** to perform the initial testing for data ingestion. \n",
        "\n",
        "> ℹ️ **Instructions** ℹ️\n",
        ">\n",
        ">Read in the data for **1962** using a data schema that purely uses string data types. You will be required to convert to the appropriate data types at a later stage.\n",
        ">\n",
        ">*You may use as many coding cells as necessary.*"
      ]
    },
    {
      "cell_type": "code",
      "execution_count": null,
      "metadata": {
        "id": "e67OgW_UkRjL"
      },
      "outputs": [],
      "source": [
        "#TODO: Write your code here\n",
        "df = spark.read.csv('/content/stocks/1962', header=True, recursiveFileLookup=True)"
      ]
    },
    {
      "cell_type": "markdown",
      "metadata": {
        "id": "eWItW2tkkRjM"
      },
      "source": [
        "## Update column names\n",
        "To make the data easier to work with, you will need to make a few changes:\n",
        "1. Column headers should all be in lowercase; and\n",
        "2. Whitespaces should be replaced with underscores.\n",
        "\n",
        "\n",
        "> ℹ️ **Instructions** ℹ️\n",
        ">\n",
        ">Make sure that the column headers are all in lowercase and that any whitespaces are replaced with underscores.\n",
        ">\n",
        ">*You may use as many coding cells as necessary.*"
      ]
    },
    {
      "cell_type": "code",
      "execution_count": null,
      "metadata": {
        "id": "m6KYbh9_kRjN"
      },
      "outputs": [],
      "source": [
        "#TODO: Write your code here\n",
        "for column in df.columns:\n",
        "    df = df.withColumnRenamed(column, '_'.join(column.split()).lower())"
      ]
    },
    {
      "cell_type": "markdown",
      "metadata": {
        "id": "-cL9I3AbkRjP"
      },
      "source": [
        "## Null Values\n",
        "Null values often represent missing pieces of data. It is always good to know where your null values lie - so you can quickly identify and remedy any issues stemming from these.\n",
        "\n",
        "> ℹ️ **Instructions** ℹ️\n",
        ">\n",
        ">Write code to count the number of null values found in each column.\n",
        ">\n",
        ">*You may use as many coding cells as necessary.*"
      ]
    },
    {
      "cell_type": "code",
      "execution_count": null,
      "metadata": {
        "colab": {
          "base_uri": "https://localhost:8080/"
        },
        "id": "6ZXXrvqxkRjP",
        "outputId": "e66653cc-a38e-4c5b-8124-9ceec443b504"
      },
      "outputs": [
        {
          "output_type": "execute_result",
          "data": {
            "text/plain": [
              "{'adj_close': 0,\n",
              " 'close': 0,\n",
              " 'date': 0,\n",
              " 'high': 0,\n",
              " 'low': 22,\n",
              " 'open': 0,\n",
              " 'stock': 0,\n",
              " 'volume': 21}"
            ]
          },
          "metadata": {},
          "execution_count": 27
        }
      ],
      "source": [
        "#TODO: Write your code here\n",
        "null_values = {}\n",
        "for col in df.columns:\n",
        "  before_count = df.select(F.count(F.when(F.isnull(col), col)).alias(col)).collect()\n",
        "  null_values[col] = before_count[0][0] \n",
        "\n",
        "null_values"
      ]
    },
    {
      "cell_type": "code",
      "source": [
        "null_sum = sum(null_values.values())\n",
        "null_sum"
      ],
      "metadata": {
        "colab": {
          "base_uri": "https://localhost:8080/"
        },
        "id": "VTSLEZH_D5lY",
        "outputId": "fff3860d-96f2-4ff3-e2ab-3d1b91f699cf"
      },
      "execution_count": null,
      "outputs": [
        {
          "output_type": "execute_result",
          "data": {
            "text/plain": [
              "43"
            ]
          },
          "metadata": {},
          "execution_count": 28
        }
      ]
    },
    {
      "cell_type": "markdown",
      "metadata": {
        "id": "FmVgJUjBkRjQ"
      },
      "source": [
        "## Data type conversion - The final data schema\n",
        "\n",
        "Now that we have identified the number of missing values in the data set, we'll move on to convert our data schema to the required data types. \n",
        "\n",
        "> ℹ️ **Instructions** ℹ️\n",
        ">\n",
        ">Use typecasting to convert the string data types in your current data schema to more appropriate data types.\n",
        ">\n",
        ">*You may use as many coding cells as necessary.*"
      ]
    },
    {
      "cell_type": "code",
      "execution_count": null,
      "metadata": {
        "id": "2q9tp4vykRjH"
      },
      "outputs": [],
      "source": [
        "schema = StructType([StructField('date', StringType(), True),\n",
        "                     StructField('open', FloatType(), True),\n",
        "                     StructField('high', FloatType(), True),\n",
        "                     StructField('low', FloatType(), True),\n",
        "                     StructField('close', FloatType(), True),\n",
        "                     StructField('adj_close', FloatType(), True),\n",
        "                     StructField('volume', FloatType(), True),\n",
        "                     StructField('stock', StringType(), True)])"
      ]
    },
    {
      "cell_type": "code",
      "execution_count": null,
      "metadata": {
        "id": "ZFOGlEzrkRjS"
      },
      "outputs": [],
      "source": [
        "#TODO: Write your code here\n",
        "working_df = spark.read.csv('/content/stocks/1962', header=False, schema=schema, recursiveFileLookup=True)"
      ]
    },
    {
      "cell_type": "code",
      "source": [
        "working_df = working_df.withColumn('date', F.to_date(F.col('date')))\n",
        "working_df = working_df.withColumn('volume', F.col('volume').cast(IntegerType()))\n",
        "working_df = working_df.where(F.col('stock')!='stock')"
      ],
      "metadata": {
        "id": "yynfC7QtGKnC"
      },
      "execution_count": null,
      "outputs": []
    },
    {
      "cell_type": "code",
      "source": [
        "working_df.show(5)"
      ],
      "metadata": {
        "colab": {
          "base_uri": "https://localhost:8080/"
        },
        "id": "sbqoR1H1IBxE",
        "outputId": "a42bcd37-45d7-49ec-fec6-1d9449ff6308"
      },
      "execution_count": null,
      "outputs": [
        {
          "output_type": "stream",
          "name": "stdout",
          "text": [
            "+----------+---------+----------+----------+---------+-----------+------+-----+\n",
            "|      date|     open|      high|       low|    close|  adj_close|volume|stock|\n",
            "+----------+---------+----------+----------+---------+-----------+------+-----+\n",
            "|1962-02-19|  5.83929|  5.907375|   5.83929|  5.86332|  1.3863293| 29900|   AA|\n",
            "|1962-02-19| 5.481634|  5.528486|  5.481634|5.5167727|  1.2804527| 32000| ARNC|\n",
            "|1962-02-19|0.9074074|0.91563785|0.89917696|0.9032922| 0.16141544|619400|   BA|\n",
            "|1962-02-19|1.6770834| 1.6927084| 1.6614584|1.6770834|  0.1440587|170400|  CAT|\n",
            "|1962-02-19|      0.0|  3.578869|      20.0| 3.549107|0.056501225|273600|  CVX|\n",
            "+----------+---------+----------+----------+---------+-----------+------+-----+\n",
            "only showing top 5 rows\n",
            "\n"
          ]
        }
      ]
    },
    {
      "cell_type": "markdown",
      "metadata": {
        "id": "YDk64qSwkRjT"
      },
      "source": [
        "## Consolidate missing values\n",
        "We have to check if the data type conversion above was done correctly.\n",
        "If the casting was not successful, a null value gets inserted into the dataframe. You can thus check for successful conversion by determining if any null values are included in the resulting dataframe.\n",
        "\n",
        "\n",
        "> ℹ️ **Instructions** ℹ️\n",
        ">\n",
        ">Write code to compare the number of invalid entries (nulls) pre-conversion and post-conversion.\n",
        ">\n",
        ">*You may use as many coding cells as necessary.*"
      ]
    },
    {
      "cell_type": "code",
      "execution_count": null,
      "metadata": {
        "colab": {
          "base_uri": "https://localhost:8080/"
        },
        "id": "eqvaD49jkRjU",
        "outputId": "6d6b761c-1bee-44da-843f-48db9c9b54dd"
      },
      "outputs": [
        {
          "output_type": "execute_result",
          "data": {
            "text/plain": [
              "{'adj_close': 21,\n",
              " 'close': 0,\n",
              " 'date': 0,\n",
              " 'high': 0,\n",
              " 'low': 42,\n",
              " 'open': 0,\n",
              " 'stock': 0,\n",
              " 'volume': 21}"
            ]
          },
          "metadata": {},
          "execution_count": 46
        }
      ],
      "source": [
        "#TODO: Write your code here\n",
        "missing_values = {}\n",
        "for col in working_df.columns:\n",
        "  after_count = working_df.select(F.count(F.when(F.isnull(col), col)).alias(col)).collect()\n",
        "  missing_values[col] = after_count[0][0] \n",
        "\n",
        "missing_values"
      ]
    },
    {
      "cell_type": "code",
      "source": [
        "#To count tickers for year 1962\n",
        "working_df.groupby('stock').count().show()"
      ],
      "metadata": {
        "colab": {
          "base_uri": "https://localhost:8080/"
        },
        "id": "R1yWimGvOF_F",
        "outputId": "58983fe7-7040-40f4-e880-c1788d61ac2b"
      },
      "execution_count": null,
      "outputs": [
        {
          "output_type": "stream",
          "name": "stdout",
          "text": [
            "+-----+-----+\n",
            "|stock|count|\n",
            "+-----+-----+\n",
            "|   AA|  252|\n",
            "|  XOM|  252|\n",
            "|  DIS|  252|\n",
            "|   PG|  252|\n",
            "|   GT|  252|\n",
            "|   MO|  252|\n",
            "|  IBM|  252|\n",
            "|  JNJ|  252|\n",
            "|  CVX|  252|\n",
            "|  DTE|  252|\n",
            "|   BA|  242|\n",
            "|   GE|  252|\n",
            "|  HPQ|  309|\n",
            "| ARNC|  231|\n",
            "|  CAT|  252|\n",
            "|   IP|  252|\n",
            "|   FL|  252|\n",
            "|   ED|  271|\n",
            "|  NAV|  252|\n",
            "|   KO|  252|\n",
            "+-----+-----+\n",
            "only showing top 20 rows\n",
            "\n"
          ]
        }
      ]
    },
    {
      "cell_type": "code",
      "source": [
        "#To check ticker with working_df.where(F.isnull('adj_close')).show()"
      ],
      "metadata": {
        "colab": {
          "base_uri": "https://localhost:8080/"
        },
        "id": "tWxNQ4FtP1eO",
        "outputId": "e6292f45-46f4-4e4a-9443-6eb090574f18"
      },
      "execution_count": null,
      "outputs": [
        {
          "output_type": "stream",
          "name": "stdout",
          "text": [
            "+----------+----+---------+---------+---------+---------+------+-----+\n",
            "|      date|open|     high|      low|    close|adj_close|volume|stock|\n",
            "+----------+----+---------+---------+---------+---------+------+-----+\n",
            "|1962-06-12| 0.0|5.6666665|5.6041665|5.6041665|     null| 50400|   FL|\n",
            "|1962-06-06| 0.0|    5.875|  5.65625|5.8333335|     null|109200|   FL|\n",
            "|1962-06-07| 0.0|  5.84375|5.7291665|5.7291665|     null| 36000|   FL|\n",
            "|1962-06-18| 0.0|5.6666665|      5.5|   5.5625|     null| 42000|   FL|\n",
            "|1962-06-15| 0.0|5.6666665|5.4583335|5.6666665|     null| 64800|   FL|\n",
            "|1962-06-22| 0.0|5.3645835|5.2916665|5.2916665|     null| 67200|   FL|\n",
            "|1962-06-21| 0.0|  5.46875|5.4166665|5.4166665|     null| 49200|   FL|\n",
            "|1962-06-19| 0.0|      5.5|5.4791665|5.4791665|     null| 19200|   FL|\n",
            "|1962-06-20| 0.0|  5.53125|5.4583335|5.4583335|     null| 34800|   FL|\n",
            "|1962-06-01| 0.0|5.8333335|     5.75|5.7916665|     null| 49200|   FL|\n",
            "|1962-06-11| 0.0|5.7083335|5.6458335|5.6458335|     null|  8400|   FL|\n",
            "|1962-06-05| 0.0|5.6666665|  5.59375|5.6145835|     null| 52800|   FL|\n",
            "|1962-06-04| 0.0|5.7708335|5.6458335|5.6666665|     null| 68400|   FL|\n",
            "|1962-06-28| 0.0|  5.46875|5.3333335|5.4583335|     null| 26400|   FL|\n",
            "|1962-06-08| 0.0|5.7916665|5.6458335|5.6458335|     null| 20400|   FL|\n",
            "|1962-06-27| 0.0|  5.40625|   5.3125|5.3541665|     null| 51600|   FL|\n",
            "|1962-06-26| 0.0|   5.4375|  5.34375|5.3645835|     null| 56400|   FL|\n",
            "|1962-06-25| 0.0|   5.3125|5.2083335|     5.25|     null| 90000|   FL|\n",
            "|1962-06-14| 0.0|5.5833335|5.5208335|5.5208335|     null| 48000|   FL|\n",
            "|1962-06-29| 0.0|      5.5|    5.375|    5.375|     null| 28800|   FL|\n",
            "+----------+----+---------+---------+---------+---------+------+-----+\n",
            "only showing top 20 rows\n",
            "\n"
          ]
        }
      ]
    },
    {
      "cell_type": "markdown",
      "metadata": {
        "id": "ozygJTUdkRjV"
      },
      "source": [
        "Here you should be able to see if any of your casts went wrong. \n",
        "Do not attempt to correct any missing values at this point. This will be dealt with in later sections of the predict."
      ]
    },
    {
      "cell_type": "markdown",
      "metadata": {
        "id": "BX4_9SHWkRjW"
      },
      "source": [
        "## Generate parquet files\n",
        "When writing in Spark, we typically use parquet format. This format allows parallel writing using Spark's optimisation while maintaining other useful things like metadata.\n",
        "\n",
        "When writing, it is good to make sure that the data is sufficiently partitioned. \n",
        "\n",
        "Generally, data should be partitioned with one partition for every 200MB of data, but this also depends on the size of your cluster and executors. \n"
      ]
    },
    {
      "cell_type": "markdown",
      "metadata": {
        "id": "n9NOaInrkRjX"
      },
      "source": [
        "### Check the size of the dataframe before partitioning"
      ]
    },
    {
      "cell_type": "code",
      "execution_count": null,
      "metadata": {
        "id": "QBnD3knKkRjY"
      },
      "outputs": [],
      "source": [
        "from pyspark.serializers import PickleSerializer, AutoBatchedSerializer"
      ]
    },
    {
      "cell_type": "code",
      "execution_count": null,
      "metadata": {
        "colab": {
          "base_uri": "https://localhost:8080/"
        },
        "id": "uC7bifknkRjZ",
        "outputId": "2f26eb0a-8033-47f0-a290-305bedb0ea19"
      },
      "outputs": [
        {
          "output_type": "stream",
          "name": "stdout",
          "text": [
            "The dataframe is 19.034008 MB\n"
          ]
        }
      ],
      "source": [
        "rdd = df.rdd._reserialize(AutoBatchedSerializer(PickleSerializer()))\n",
        "obj = rdd.ctx._jvm.org.apache.spark.mllib.api.python.SerDe.pythonToJava(rdd._jrdd, True)\n",
        "size = sc._jvm.org.apache.spark.util.SizeEstimator.estimate(obj)\n",
        "size_MB = size/1000000\n",
        "partitions = max(int(size_MB/200), 2)\n",
        "print(f'The dataframe is {size_MB} MB')"
      ]
    },
    {
      "cell_type": "code",
      "source": [
        "partitions"
      ],
      "metadata": {
        "colab": {
          "base_uri": "https://localhost:8080/"
        },
        "id": "KgVHRI5mSbLX",
        "outputId": "984f219f-b858-4073-9f1a-7e697abd518f"
      },
      "execution_count": null,
      "outputs": [
        {
          "output_type": "execute_result",
          "data": {
            "text/plain": [
              "2"
            ]
          },
          "metadata": {},
          "execution_count": 56
        }
      ]
    },
    {
      "cell_type": "markdown",
      "metadata": {
        "id": "quO5NlztkRja"
      },
      "source": [
        "### Write parquet files to the local directory\n",
        "> ℹ️ **Instructions** ℹ️\n",
        ">\n",
        "> Use the **coalesce** function and the number of **partitions** derived above to write parquet files to your local directory \n",
        ">\n",
        ">*You may use as many coding cells as necessary.*"
      ]
    },
    {
      "cell_type": "code",
      "execution_count": null,
      "metadata": {
        "id": "B2btrjDjkRjb"
      },
      "outputs": [],
      "source": [
        "#TODO: Write your code here\n",
        "working_df.coalesce(2).write.format(\"parquet\").save(\"/content/drive/MyDrive/data/Part_I\")"
      ]
    }
  ],
  "metadata": {
    "celltoolbar": "Raw Cell Format",
    "interpreter": {
      "hash": "24a0a2ddc4dffcb168e507551dd24967ddc40ea2df7a72a200a74e0ae6d88beb"
    },
    "kernelspec": {
      "display_name": "Python 3 (ipykernel)",
      "language": "python",
      "name": "python3"
    },
    "language_info": {
      "codemirror_mode": {
        "name": "ipython",
        "version": 3
      },
      "file_extension": ".py",
      "mimetype": "text/x-python",
      "name": "python",
      "nbconvert_exporter": "python",
      "pygments_lexer": "ipython3",
      "version": "3.9.7"
    },
    "colab": {
      "name": "Data_ingestion_student_version_complete.ipynb",
      "provenance": []
    }
  },
  "nbformat": 4,
  "nbformat_minor": 0
}