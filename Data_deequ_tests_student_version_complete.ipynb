{
  "cells": [
    {
      "cell_type": "markdown",
      "metadata": {
        "id": "0KuyIu5Aydxj"
      },
      "source": [
        "# Processing Big Data - Deequ Analysis\n",
        "\n",
        "© Explore Data Science Academy\n",
        "\n",
        "## Honour Code\n",
        "I {**YOUR NAME**, **YOUR SURNAME**}, confirm - by submitting this document - that the solutions in this notebook are a result of my own work and that I abide by the [EDSA honour code](https://drive.google.com/file/d/1QDCjGZJ8-FmJE3bZdIQNwnJyQKPhHZBn/view?usp=sharing).\n",
        "    Non-compliance with the honour code constitutes a material breach of contract.\n",
        "\n",
        "\n",
        "## Context\n",
        "\n",
        "Having completed manual data quality checks, it should be obvious that the process can become quite cumbersome. As the Data Engineer in the team, you have researched some tools that could potentially save the team from having to do this cumbersome work. In your research, you have come a across a tool called [Deequ](https://github.com/awslabs/deequ), which is a library for measuring the data quality of large datasets.\n",
        "\n",
        "<div align=\"center\" style=\"width: 600px; font-size: 80%; text-align: center; margin: 0 auto\">\n",
        "<img src=\"https://github.com/Explore-AI/Pictures/raw/master/data_engineering/transform/predict/DataQuality.jpg\"\n",
        "     alt=\"Data Quality\"\n",
        "     style=\"float: center; padding-bottom=0.5em\"\n",
        "     width=100%/>\n",
        "     <p><em>Figure 1. Six dimensions of data quality</em></p>\n",
        "</div>\n",
        "\n",
        "You present this tool to your manager; he is quite impressed and gives you the go-ahead to use this in your implementation. You are now required to perform some data quality tests using this automated data testing tool.\n",
        " "
      ]
    },
    {
      "cell_type": "markdown",
      "metadata": {
        "id": "Of4cIDBdydxy"
      },
      "source": [
        "> ## 🚩️ Important Notice 🚩️\n",
        ">\n",
        ">To successfully run `pydeequ` without any errors, please make sure that you have an environment that is running pyspark version 3.0.\n",
        "> You are advised to **create a new conda environment** and install this specific version of pyspark to avoid any technical issues:\n",
        ">\n",
        "> `pip install pyspark==3.0`\n",
        "\n",
        "<br>\n",
        "\n",
        "## Import dependencies\n",
        "\n",
        "If you do not have `pydeequ` already installed, install it using the following command:\n",
        "- `pip install pydeequ`"
      ]
    },
    {
      "cell_type": "code",
      "execution_count": null,
      "metadata": {
        "id": "3N8slVh1ji_v"
      },
      "outputs": [],
      "source": [
        "\"\"\" \n",
        "Colab is essentially running on a linux machine on Google Cloud Platform.\n",
        "This means that should you want to install something in your notebook you\n",
        "would have to run headless installs as well as wget. Copying the installs\n",
        "below will ensure that you have spark and java installed in the environment\n",
        "as well as available for the notebook.\n",
        "\"\"\"\n",
        "!apt-get install openjdk-8-jdk-headless -qq > /dev/null\n",
        "!wget -q https://archive.apache.org/dist/spark/spark-3.0.0/spark-3.0.0-bin-hadoop2.7.tgz\n",
        "!tar xf spark-3.0.0-bin-hadoop2.7.tgz\n",
        "!pip install -q findspark"
      ]
    },
    {
      "cell_type": "code",
      "execution_count": null,
      "metadata": {
        "id": "hjdwyUsCji84"
      },
      "outputs": [],
      "source": [
        "\"\"\"\n",
        "This section helps in rendering your notebook operable and ensuring that \n",
        "your environment variables for spark are correct. Running this cell in any\n",
        "notebook allows for any unresolved spark environment to be fixed.\n",
        "\"\"\"\n",
        "import os\n",
        "os.environ[\"JAVA_HOME\"] = \"/usr/lib/jvm/java-8-openjdk-amd64\"\n",
        "os.environ[\"SPARK_HOME\"] = \"/content/spark-3.0.0-bin-hadoop2.7\"\n",
        "os.environ[\"SPARK_VERSION\"] = \"3.0.0\""
      ]
    },
    {
      "cell_type": "code",
      "execution_count": null,
      "metadata": {
        "id": "U1zV3JjZji52"
      },
      "outputs": [],
      "source": [
        "\"\"\"\n",
        "We need to locate Spark in the system. For that, we import findspark and \n",
        "use the findspark.init() method. If you want to know the location where \n",
        "Spark is installed, use findspark.find()\n",
        "\"\"\"\n",
        "import findspark\n",
        "findspark.init()\n",
        "# findspark.find()\n",
        "import pyspark"
      ]
    },
    {
      "cell_type": "code",
      "source": [
        "!pip install pydeequ"
      ],
      "metadata": {
        "colab": {
          "base_uri": "https://localhost:8080/"
        },
        "id": "MaubgDI8PyRz",
        "outputId": "b1f15275-0305-4732-8fe2-d5551fa605c6"
      },
      "execution_count": null,
      "outputs": [
        {
          "output_type": "stream",
          "name": "stdout",
          "text": [
            "Looking in indexes: https://pypi.org/simple, https://us-python.pkg.dev/colab-wheels/public/simple/\n",
            "Collecting pydeequ\n",
            "  Downloading pydeequ-1.0.1-py3-none-any.whl (36 kB)\n",
            "Requirement already satisfied: pandas>=0.23.0 in /usr/local/lib/python3.7/dist-packages (from pydeequ) (1.3.5)\n",
            "Requirement already satisfied: numpy>=1.14.1 in /usr/local/lib/python3.7/dist-packages (from pydeequ) (1.21.6)\n",
            "Requirement already satisfied: python-dateutil>=2.7.3 in /usr/local/lib/python3.7/dist-packages (from pandas>=0.23.0->pydeequ) (2.8.2)\n",
            "Requirement already satisfied: pytz>=2017.3 in /usr/local/lib/python3.7/dist-packages (from pandas>=0.23.0->pydeequ) (2022.1)\n",
            "Requirement already satisfied: six>=1.5 in /usr/local/lib/python3.7/dist-packages (from python-dateutil>=2.7.3->pandas>=0.23.0->pydeequ) (1.15.0)\n",
            "Installing collected packages: pydeequ\n",
            "Successfully installed pydeequ-1.0.1\n"
          ]
        }
      ]
    },
    {
      "cell_type": "code",
      "execution_count": null,
      "metadata": {
        "id": "aB9tHI27ydxy"
      },
      "outputs": [],
      "source": [
        "import pandas as pd\n",
        "import numpy as np\n",
        "import matplotlib.pyplot as plt\n",
        "import pydeequ\n",
        "from pydeequ.analyzers import *\n",
        "from pydeequ.profiles import *\n",
        "from pydeequ.suggestions import *\n",
        "from pydeequ.checks import *\n",
        "from pydeequ.verification import *\n",
        "\n",
        "from pyspark.sql import SparkSession\n",
        "from pyspark.sql import functions as F\n",
        "from pyspark.sql.types import DecimalType, DoubleType, IntegerType, DateType, NumericType, StructType, StringType, StructField"
      ]
    },
    {
      "cell_type": "code",
      "execution_count": null,
      "metadata": {
        "id": "msVbAgRLydxz"
      },
      "outputs": [],
      "source": [
        "spark = (SparkSession\n",
        "    .builder\n",
        "    .config(\"spark.jars.packages\", pydeequ.deequ_maven_coord)\n",
        "    .config(\"spark.jars.excludes\", pydeequ.f2j_maven_coord)\n",
        "    .getOrCreate())"
      ]
    },
    {
      "cell_type": "code",
      "source": [
        "from google.colab import drive\n",
        "drive.mount('/content/drive')"
      ],
      "metadata": {
        "colab": {
          "base_uri": "https://localhost:8080/"
        },
        "id": "5ULZIblQWkB0",
        "outputId": "1e758bf9-d682-46cd-a0c6-918066c1793f"
      },
      "execution_count": null,
      "outputs": [
        {
          "output_type": "stream",
          "name": "stdout",
          "text": [
            "Mounted at /content/drive\n"
          ]
        }
      ]
    },
    {
      "cell_type": "markdown",
      "metadata": {
        "id": "s9UfTCbGydx0"
      },
      "source": [
        "## Read data into spark dataframe\n",
        "\n",
        "In this notebook, we set out to run some data quality tests, with the possiblity of running end to end on the years 1963, 1974, 1985, 1996, 2007, and 2018. \n",
        "\n",
        "> ℹ️ **Instructions** ℹ️\n",
        ">\n",
        ">1. Make use of the `Data_ingestion_student_version.ipynb` notebook to create the parquet files for the following years:\n",
        ">       - 1963\n",
        ">       - 1974\n",
        ">       - 1985\n",
        ">       - 1996\n",
        ">       - 2007\n",
        ">       - 2018\n",
        ">\n",
        ">2. Ingest the data for the for the years given above. You should only do it one year at a time.\n",
        ">3. Ingest the metadata file.\n",
        "\n",
        "\n",
        "When developing your code, it will be sufficient to focus on a single year. However, after your development is done, you will need to run this notebook for all of the given years above so that you can answer all the questions given in the Data Testing MCQ."
      ]
    },
    {
      "cell_type": "code",
      "execution_count": null,
      "metadata": {
        "id": "knJ4wClQydx2"
      },
      "outputs": [],
      "source": [
        "#TODO: Write your code here\n",
        "# Use this variable (year) to determine which year your are focusing on\n",
        "year = 1963\n",
        "df = spark.read.parquet(f'/content/drive/MyDrive/data/Part_III/{year}')"
      ]
    },
    {
      "cell_type": "code",
      "source": [
        "metadata_df = spark.read.csv('/content/drive/MyDrive/data/symbols_valid_meta.csv', header=True)"
      ],
      "metadata": {
        "id": "ayIfdjNxneyp"
      },
      "execution_count": null,
      "outputs": []
    },
    {
      "cell_type": "markdown",
      "metadata": {
        "id": "ctmKZPMFydx2"
      },
      "source": [
        "## **Run tests on the dataset**\n",
        "\n",
        "## Test 1 - Null values ⛔️\n",
        "For the first test, you are required to check the data for completeness.\n",
        "\n",
        "> ℹ️ **Instructions** ℹ️\n",
        ">\n",
        ">1. Make use of the `Verification Suite` and write code to check for missing values in the data. \n",
        ">2. Display the results of your test.\n",
        ">\n",
        "> *You may use as many cells as necessary*\n"
      ]
    },
    {
      "cell_type": "code",
      "execution_count": null,
      "metadata": {
        "colab": {
          "base_uri": "https://localhost:8080/"
        },
        "id": "Ikcxazbqydx2",
        "outputId": "6609fcae-95aa-45b1-b260-ad88cad3caf6"
      },
      "outputs": [
        {
          "output_type": "stream",
          "name": "stdout",
          "text": [
            "+-------------------+-----------+------------+--------------------+-----------------+------------------+\n",
            "|              check|check_level|check_status|          constraint|constraint_status|constraint_message|\n",
            "+-------------------+-----------+------------+--------------------+-----------------+------------------+\n",
            "|Completeness checks|      Error|     Success|CompletenessConst...|          Success|                  |\n",
            "|Completeness checks|      Error|     Success|CompletenessConst...|          Success|                  |\n",
            "|Completeness checks|      Error|     Success|CompletenessConst...|          Success|                  |\n",
            "|Completeness checks|      Error|     Success|CompletenessConst...|          Success|                  |\n",
            "|Completeness checks|      Error|     Success|CompletenessConst...|          Success|                  |\n",
            "|Completeness checks|      Error|     Success|CompletenessConst...|          Success|                  |\n",
            "|Completeness checks|      Error|     Success|CompletenessConst...|          Success|                  |\n",
            "|Completeness checks|      Error|     Success|ComplianceConstra...|          Success|                  |\n",
            "+-------------------+-----------+------------+--------------------+-----------------+------------------+\n",
            "\n"
          ]
        }
      ],
      "source": [
        "#TODO: Write your code here\n",
        "comp_test = VerificationSuite(spark) \\\n",
        "  .onData(df) \\\n",
        "  .addCheck(Check(spark_session = spark, level=CheckLevel.Error, description= 'Completeness checks') \\\n",
        "            .isComplete(\"date\") \\\n",
        "            .isComplete(\"open\") \\\n",
        "            .isComplete(\"high\") \\\n",
        "            .isComplete(\"low\") \\\n",
        "            .isComplete(\"close\") \\\n",
        "            .isComplete(\"adj_close\") \\\n",
        "            .isComplete(\"volume\") \\\n",
        "            .areComplete(df.columns)) \\\n",
        "            .run()                                         \n",
        "\n",
        "res = VerificationResult.checkResultsAsDataFrame(spark, comp_test)\n",
        "res.show()"
      ]
    },
    {
      "cell_type": "markdown",
      "metadata": {
        "id": "mWpiY9LWydx3"
      },
      "source": [
        "## Test 2 - Zero Values 🅾️\n",
        "\n",
        "For the second test, you are required to check for zero values within the dataset.\n",
        "\n",
        "> ℹ️ **Instructions** ℹ️\n",
        ">\n",
        ">1. Make use of the `Verification Suite` and write code to check for zero values within the data. \n",
        ">2. Display the results of your test.\n",
        ">\n",
        "> *You may use as many cells as necessary*"
      ]
    },
    {
      "cell_type": "code",
      "execution_count": null,
      "metadata": {
        "colab": {
          "base_uri": "https://localhost:8080/"
        },
        "id": "itPwi0Tmydx3",
        "outputId": "e9bc1f77-70ec-4632-f45f-7d489df49328"
      },
      "outputs": [
        {
          "output_type": "stream",
          "name": "stdout",
          "text": [
            "+-------------------+-----------+------------+--------------------+-----------------+--------------------+\n",
            "|              check|check_level|check_status|          constraint|constraint_status|  constraint_message|\n",
            "+-------------------+-----------+------------+--------------------+-----------------+--------------------+\n",
            "|Completeness checks|      Error|       Error|ComplianceConstra...|          Failure|Value: 0.45019920...|\n",
            "|Completeness checks|      Error|       Error|ComplianceConstra...|          Success|                    |\n",
            "|Completeness checks|      Error|       Error|ComplianceConstra...|          Success|                    |\n",
            "|Completeness checks|      Error|       Error|ComplianceConstra...|          Success|                    |\n",
            "|Completeness checks|      Error|       Error|ComplianceConstra...|          Success|                    |\n",
            "|Completeness checks|      Error|       Error|ComplianceConstra...|          Failure|Value: 0.99940239...|\n",
            "+-------------------+-----------+------------+--------------------+-----------------+--------------------+\n",
            "\n"
          ]
        }
      ],
      "source": [
        "#TODO: Write your code here\n",
        "zero_test = VerificationSuite(spark) \\\n",
        "  .onData(df) \\\n",
        "  .addCheck(Check(spark_session = spark, level=CheckLevel.Error, description= 'zero checks') \\\n",
        "            .isPositive(\"open\") \\\n",
        "            .isPositive(\"high\") \\\n",
        "            .isPositive(\"low\") \\\n",
        "            .isPositive(\"close\") \\\n",
        "            .isPositive(\"adj_close\") \\\n",
        "            .isPositive(\"volume\")) \\\n",
        "            .run()                                         \n",
        "\n",
        "res = VerificationResult.checkResultsAsDataFrame(spark, zero_test)\n",
        "res.show()"
      ]
    },
    {
      "cell_type": "markdown",
      "metadata": {
        "id": "3xY9ZmNrydx4"
      },
      "source": [
        "## Test 3 - Negative values ➖️\n",
        "The third test requires you to check that all values in the data are positive.\n",
        "\n",
        "> ℹ️ **Instructions** ℹ️\n",
        ">\n",
        ">1. Make use of the `Verification Suite` and write code to check negative values within the dataset. \n",
        ">2. Display the results of your test.\n",
        ">\n",
        "> *You may use as many cells as necessary*"
      ]
    },
    {
      "cell_type": "code",
      "execution_count": null,
      "metadata": {
        "colab": {
          "base_uri": "https://localhost:8080/"
        },
        "id": "N5Rw4457ydx5",
        "outputId": "16516e56-4c93-47a9-889d-5dfbe671034f"
      },
      "outputs": [
        {
          "output_type": "stream",
          "name": "stdout",
          "text": [
            "+---------------+-----------+------------+--------------------+-----------------+------------------+\n",
            "|          check|check_level|check_status|          constraint|constraint_status|constraint_message|\n",
            "+---------------+-----------+------------+--------------------+-----------------+------------------+\n",
            "|negative checks|      Error|     Success|ComplianceConstra...|          Success|                  |\n",
            "|negative checks|      Error|     Success|ComplianceConstra...|          Success|                  |\n",
            "|negative checks|      Error|     Success|ComplianceConstra...|          Success|                  |\n",
            "|negative checks|      Error|     Success|ComplianceConstra...|          Success|                  |\n",
            "|negative checks|      Error|     Success|ComplianceConstra...|          Success|                  |\n",
            "|negative checks|      Error|     Success|ComplianceConstra...|          Success|                  |\n",
            "|negative checks|      Error|     Success|ComplianceConstra...|          Success|                  |\n",
            "+---------------+-----------+------------+--------------------+-----------------+------------------+\n",
            "\n"
          ]
        }
      ],
      "source": [
        "#TODO: Write your code here\n",
        "neg_test = VerificationSuite(spark) \\\n",
        "  .onData(df) \\\n",
        "  .addCheck(Check(spark_session = spark, level=CheckLevel.Error, description= 'negative checks') \\\n",
        "            .isNonNegative(\"date\") \\\n",
        "            .isNonNegative(\"open\") \\\n",
        "            .isNonNegative(\"high\") \\\n",
        "            .isNonNegative(\"low\") \\\n",
        "            .isNonNegative(\"close\") \\\n",
        "            .isNonNegative(\"adj_close\") \\\n",
        "            .isNonNegative(\"volume\")) \\\n",
        "            .run()                                         \n",
        "\n",
        "res = VerificationResult.checkResultsAsDataFrame(spark, neg_test)\n",
        "res.show()"
      ]
    },
    {
      "cell_type": "markdown",
      "metadata": {
        "id": "ltY1SctZydx5"
      },
      "source": [
        "## Test 4 - Determine Maximum Values ⚠️\n",
        "\n",
        "For the fourth test, we want to find the maximum values in the dataset for the numerical fields. Extremum values can often be used to define an upper bound for the column values so we can define them as the threshold values. \n",
        "\n",
        "> ℹ️ **Instructions** ℹ️\n",
        ">\n",
        ">1. Make use of the `Column Profiler Runner` to generate summary statistics for all the available columns. \n",
        ">2. Extract the maximum values for all the numeric columns in the data.\n",
        ">\n",
        "> *You may use as many cells as necessary*"
      ]
    },
    {
      "cell_type": "code",
      "execution_count": null,
      "metadata": {
        "colab": {
          "base_uri": "https://localhost:8080/"
        },
        "id": "6s15z4Spydx6",
        "outputId": "75601185-fa81-4ab4-d68f-25e76b4503ec"
      },
      "outputs": [
        {
          "output_type": "stream",
          "name": "stdout",
          "text": [
            "Maximum value for open is 303.125\n",
            "Maximum value for low is 311.875\n",
            "Maximum value for close is 313.75\n",
            "Maximum value for volume is 20692800.0\n",
            "Maximum value for adj_close is 148.7704620361328\n",
            "Maximum value for high is 315.625\n"
          ]
        }
      ],
      "source": [
        "#TODO: Write your code here\n",
        "num_cols = [\"open\", \"low\", \"close\", \"high\", \"adj_close\", \"volume\"]\n",
        "result = ColumnProfilerRunner(spark) \\\n",
        "    .onData(df) \\\n",
        "    .run()\n",
        "\n",
        "for col, profile in result.profiles.items():\n",
        "  if col in num_cols:\n",
        "    print(f'Maximum value for {col} is {profile.maximum}')\n",
        "    "
      ]
    },
    {
      "cell_type": "markdown",
      "metadata": {
        "id": "MZoPrenrydx7"
      },
      "source": [
        "## Test 5 - Stock Tickers 💹️\n",
        "\n",
        "For the fifth test, we want to determine if the stock tickers contained in our dataset are consistent. To do this, you will need to make use of use of the metadata file to check that the stock names used in the dataframe are valid. \n",
        "\n",
        "> ℹ️ **Instructions** ℹ️\n",
        ">\n",
        ">1. Make use of the `Verification Suite` and write code to determine if the stock tickers contained in the dataset appear in the metadata file.\n",
        ">2. Display the results of your test.\n",
        ">\n",
        "> *You may use as many cells as necessary*"
      ]
    },
    {
      "cell_type": "code",
      "source": [
        "metadata_df = metadata_df.toPandas()\n",
        "metadata_symbol = [i for i in metadata_df.Symbol]"
      ],
      "metadata": {
        "id": "6POVibyUn4SW"
      },
      "execution_count": null,
      "outputs": []
    },
    {
      "cell_type": "code",
      "execution_count": null,
      "metadata": {
        "id": "GW_UX_kGydx7",
        "colab": {
          "base_uri": "https://localhost:8080/"
        },
        "outputId": "09af5cd7-1242-4aa1-e45d-94b9cd7a705c"
      },
      "outputs": [
        {
          "output_type": "stream",
          "name": "stdout",
          "text": [
            "+---------------+-----------+------------+--------------------+-----------------+------------------+\n",
            "|          check|check_level|check_status|          constraint|constraint_status|constraint_message|\n",
            "+---------------+-----------+------------+--------------------+-----------------+------------------+\n",
            "|negative checks|      Error|     Success|ComplianceConstra...|          Success|                  |\n",
            "+---------------+-----------+------------+--------------------+-----------------+------------------+\n",
            "\n"
          ]
        }
      ],
      "source": [
        "#TODO: Write your code here\n",
        "\n",
        "consistency_test = VerificationSuite(spark) \\\n",
        "  .onData(df) \\\n",
        "  .addCheck(Check(spark_session = spark, level=CheckLevel.Error, description= 'consistency checks') \\\n",
        "            .isContainedIn(\"stock\",metadata_symbol)) \\\n",
        "            .run()                                         \n",
        "\n",
        "res = VerificationResult.checkResultsAsDataFrame(spark, consistency_test)\n",
        "res.show()"
      ]
    },
    {
      "cell_type": "markdown",
      "metadata": {
        "id": "vSObk34zydx8"
      },
      "source": [
        "## Test 6 - Duplication 👥️\n",
        "Lastly, we want to determine the uniqueness of the items found in the dataframe. You need to make use of the Verification Suite to check for the validity of the stock tickers. \n",
        "\n",
        "Similar to the previous notebook - `Data_profiling_student_version.ipynb`, the first thing to check will be if the primary key values within the dataset are unique - in our case, that will be a combination of the stock name and the date. Secondly, we want to check if the entries are all unique, which is done by checking for duplicates across that whole dataset.\n",
        "\n",
        "> ℹ️ **Instructions** ℹ️\n",
        ">\n",
        ">1. Make use of the `Verification Suite` and write code to determine the uniqueness of entries contained within the dataset.\n",
        ">2. Display the results of your test.\n",
        ">\n",
        "> *You may use as many cells as necessary*\n",
        "\n"
      ]
    },
    {
      "cell_type": "code",
      "execution_count": null,
      "metadata": {
        "id": "5UOAUGKxydx-",
        "colab": {
          "base_uri": "https://localhost:8080/"
        },
        "outputId": "f924025a-34b1-49b8-839e-fb973b0e19e5"
      },
      "outputs": [
        {
          "output_type": "stream",
          "name": "stdout",
          "text": [
            "Python Callback server started!\n",
            "+-----------------+-----------+------------+--------------------+-----------------+------------------+\n",
            "|            check|check_level|check_status|          constraint|constraint_status|constraint_message|\n",
            "+-----------------+-----------+------------+--------------------+-----------------+------------------+\n",
            "|uniqueness checks|      Error|     Success|UniquenessConstra...|          Success|                  |\n",
            "+-----------------+-----------+------------+--------------------+-----------------+------------------+\n",
            "\n"
          ]
        }
      ],
      "source": [
        "#TODO: Write your code here\n",
        "uni_test = VerificationSuite(spark) \\\n",
        "  .onData(df) \\\n",
        "  .addCheck(Check(spark_session = spark, level=CheckLevel.Error, description= 'uniqueness checks') \\\n",
        "            .hasUniqueness((\"date\",\"stock\"), lambda x: x == 1)) \\\n",
        "            .run()                                         \n",
        "\n",
        "res = VerificationResult.checkResultsAsDataFrame(spark, uni_test)\n",
        "res.show()"
      ]
    }
  ],
  "metadata": {
    "interpreter": {
      "hash": "0b41f59b882618484a4d28c089dca4efdf4ffb1e043e654ec6730d7439b802f5"
    },
    "kernelspec": {
      "display_name": "Python 3.8.11 64-bit ('spark3.0': conda)",
      "name": "python3"
    },
    "language_info": {
      "codemirror_mode": {
        "name": "ipython",
        "version": 3
      },
      "file_extension": ".py",
      "mimetype": "text/x-python",
      "name": "python",
      "nbconvert_exporter": "python",
      "pygments_lexer": "ipython3",
      "version": "3.8.12"
    },
    "colab": {
      "name": "Data_deequ_tests_student_version_complete.ipynb",
      "provenance": [],
      "collapsed_sections": []
    }
  },
  "nbformat": 4,
  "nbformat_minor": 0
}